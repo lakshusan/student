{
 "cells": [
  {
   "cell_type": "markdown",
   "metadata": {},
   "source": [
    "# Homework\n",
    "## Instructions\n",
    "There are two total problems:\n",
    "1.  An easy regular code (Python) problem\n",
    "2.  A medium pseudo-code problem\n",
    "3. A hard regular code (Python) problem\n",
    "\n",
    "\n",
    "Completing question 1 and 2 gets you 0.9/1 if you do it correctly. Completing/attempting question 3, adding creativity, and adding good comments will potentially raise you above 0.9."
   ]
  },
  {
   "cell_type": "markdown",
   "metadata": {},
   "source": [
    "### Question 1\n",
    "Write a procedure to apply a percent discount to a set price. See the example about applying tax if you're stuck."
   ]
  },
  {
   "cell_type": "code",
   "execution_count": null,
   "metadata": {},
   "outputs": [],
   "source": [
    "# your code here\n",
    "def applyDiscount(price, percentDiscount):\n",
    "    # Add operation code for discount calculation\n",
    "    discountAmount = price * percentDiscount / 100\n",
    "\n",
    "    # Subtract discounted value from original price for discounted price\n",
    "    discountedPrice = price - discountAmount\n",
    "\n",
    "    return discountedPrice"
   ]
  },
  {
   "cell_type": "markdown",
   "metadata": {},
   "source": [
    "### Question 2\n",
    "Create your own robot problem! Include a picture with a square grid to represent the map and triangle to represent the robot. Add a flag to a square to represent the end-point and a shaded-in block to represent a detour. Write a procedure in pseudo-code to move the robot from the start, past the detour, and to the end point."
   ]
  },
  {
   "cell_type": "markdown",
   "metadata": {},
   "source": [
    "Add your image here by adding the link between the \"\" and removing the comment formatting:\n",
    "<img src=\"https://media.discordapp.net/attachments/796087225535168512/1166978366197477386/devprocedures_q2.png?ex=654c744b&is=6539ff4b&hm=20a80e15f5efe2e0fab99d7744d0dcac5025d8df0619ffce0439edbed090f20f&=&width=1134&height=993\">\n",
    "I didn't use the same shapes listed in the instructions but I labeled them accordingly so there is no confusion!"
   ]
  },
  {
   "cell_type": "markdown",
   "metadata": {},
   "source": [
    "# your code here\n",
    "PROCEDURE <-- roboot_path\n",
    "ROTATE_LEFT()\n",
    "MOVE FORWARD()\n",
    "ROTATE_RIGHT()\n",
    "MOVE_FORWARD()\n",
    "MOVE_FORWARD()\n",
    "MOVE FORWARD()"
   ]
  },
  {
   "cell_type": "markdown",
   "metadata": {},
   "source": [
    "### Question 3\n",
    "Create a program that asks for user input of an integer *n*, and return an array that contains all the prime numbers up to the number *n* (inclusive). Remember to use multiple different functions to better organize the code and increase efficiency."
   ]
  },
  {
   "cell_type": "code",
   "execution_count": 2,
   "metadata": {},
   "outputs": [
    {
     "name": "stdout",
     "output_type": "stream",
     "text": [
      "Prime numbers up to 89 are: [2, 3, 5, 7, 11, 13, 17, 19, 23, 29, 31, 37, 41, 43, 47, 53, 59, 61, 67, 71, 73, 79, 83, 89]\n",
      "True\n",
      "False\n",
      "False\n"
     ]
    }
   ],
   "source": [
    "def primes(n):\n",
    "  # your code here\n",
    "    if n <= 1:\n",
    "        return False\n",
    "    if n <= 3:\n",
    "        return True\n",
    "    if n % 2 == 0 or n % 3 == 0:\n",
    "        return False\n",
    "    i = 5\n",
    "    while i * i <= n:\n",
    "        if n % i == 0 or n % (i + 2) == 0:\n",
    "            return False\n",
    "        i += 6\n",
    "    return True\n",
    "\n",
    "def generate_primes(n):\n",
    "    prime_list = [2, 3]\n",
    "    if n < 2:\n",
    "        return []\n",
    "    for num in range(5, n + 1, 6):\n",
    "        if primes(num):\n",
    "            prime_list.append(num)\n",
    "        if num + 2 <= n and primes(num + 2):\n",
    "            prime_list.append(num + 2)\n",
    "    return prime_list\n",
    "\n",
    "def num_input():\n",
    "    n = int(input(\"Enter a positive integer n: \"))\n",
    "    if n < 2:\n",
    "        print(\"There are no prime numbers less than 2.\")\n",
    "    else:\n",
    "        primes = generate_primes(n)\n",
    "        print(\"Prime numbers up to\", n, \"are:\", primes)\n",
    "\n",
    "if __name__ == \"__main__\":\n",
    "    num_input()\n",
    "\n",
    "# tests\n",
    "print(primes(5))\n",
    "print(primes(12))\n",
    "print(primes(35))"
   ]
  }
 ],
 "metadata": {
  "kernelspec": {
   "display_name": "Python 3",
   "language": "python",
   "name": "python3"
  },
  "language_info": {
   "codemirror_mode": {
    "name": "ipython",
    "version": 3
   },
   "file_extension": ".py",
   "mimetype": "text/x-python",
   "name": "python",
   "nbconvert_exporter": "python",
   "pygments_lexer": "ipython3",
   "version": "3.10.12"
  }
 },
 "nbformat": 4,
 "nbformat_minor": 2
}
