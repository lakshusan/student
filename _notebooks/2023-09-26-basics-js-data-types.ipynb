{
 "cells": [
  {
   "cell_type": "markdown",
   "metadata": {},
   "source": [
    "---\n",
    "title: Javascript Data Types/Lists\n",
    "hide: True\n",
    "description: A Tech Talk on javascript data types and how to use with lists\n",
    "type: ccc\n",
    "permalink: /basics/datatypes\n",
    "comments: true\n",
    "---"
   ]
  },
  {
   "cell_type": "raw",
   "metadata": {},
   "source": [
    "{% include nav_basics.html %}\n"
   ]
  },
  {
   "cell_type": "code",
   "execution_count": null,
   "metadata": {
    "vscode": {
     "languageId": "javascript"
    }
   },
   "outputs": [],
   "source": [
    "%%js\n",
    "\n",
    "// assign variable\n",
    "var name = \"Lakshanya\"\n",
    "console.log(\"variable: name\")\n",
    "console.log(name)\n",
    "\n",
    "// seeing the type of this data\n",
    "console.log(\"variable: name check typeof\")\n",
    "console.log(typeof name)\n",
    "\n",
    "// add strings together\n",
    "console.log(\"string concatenation: name, + hello\")\n",
    "console.log(name + \", hello!\")"
   ]
  },
  {
   "cell_type": "code",
   "execution_count": 1,
   "metadata": {
    "vscode": {
     "languageId": "javascript"
    }
   },
   "outputs": [
    {
     "data": {
      "text/html": [
       "<script>\n",
       "\n",
       "// assign variable\n",
       "var hello = \"Hello World\";\n",
       "console.log(\"variable: hello\")\n",
       "console.log(hello)\n",
       "\n",
       "// seeing the type of this data\n",
       "console.log(\"variable: hello check typeof\")\n",
       "console.log(typeof hello)\n",
       "\n",
       "// add strings together\n",
       "console.log(\"string concatenation: hello + Rohan!\")\n",
       "console.log(hello + \" Rohan!\")\n",
       "\n",
       "// getting a certain component of this text\n",
       "// (here the _ is a standin for the space character)\n",
       "// H  e  l  l  o  _  W  o  r  l  d\n",
       "// 0  1  2  3  4  5  6  7  8  9  10\n",
       "// if we want the hello component, we want characters 0-4, so we use the following function\n",
       "// (note how we use 0 and 5 as arguments, the last character is NOT INCLUSIVE)\n",
       "console.log(\"substring: hello 0, 5\")\n",
       "console.log(hello.substring(0, 5))\n",
       "\n",
       "// useful functions to make string lowercase or uppercase\n",
       "console.log(\"string convert to upper case: hello toUpperCase\")\n",
       "console.log(hello.toUpperCase())\n",
       "console.log(\"string convert to lower case: hello toLowerCase\")\n",
       "console.log(hello.toLowerCase())\n",
       "\n",
       "// useful function to check if one string is contained in another\n",
       "console.log(\"string includes: hello includes Rohan\")\n",
       "console.log(hello.includes(\"Rohan\"))\n",
       "console.log(\"string includes: hello includes Hello\")\n",
       "console.log(hello.includes(\"Hello\"))\n",
       "</script>\n"
      ],
      "text/plain": [
       "<IPython.core.display.HTML object>"
      ]
     },
     "metadata": {},
     "output_type": "display_data"
    }
   ],
   "source": [
    "%%js\n",
    "// Defining 'obj' variable as an object with arrays\n",
    "console.log(\"Object: assigning key-value objects\")\n",
    "var obj = {\n",
    "    name: \"Lakshanya\",\n",
    "    age: 15 ,\n",
    "    classes: [\"world history, computer science, biology, humanities, calculus\"],\n",
    "    interests: [\"music, books, cooking\"],\n",
    "    siblings: [\"younger brother, older sister\"],\n",
    "    ethnicOrigin: \"India\",\n",
    "    instrumentExperience: [\"Western Flute - 10 years, Carnatic Flute - 7 years, Clarinet - 2 years, Bass Clarinet - 1 year\"],\n",
    "    passionProject: \"Instrument Practice Log\"\n",
    "// Additions - siblings, passion project, instrument experience, ethnic origin\n",
    "}\n",
    "\n",
    "console.log(obj)\n",
    "\n",
    "\n",
    "obj.classes[1] = 'world history, computer science principles, biology, humanities, calculus'\n",
    "\n",
    "console.log('modified', obj.classes)\n",
    "// changes computer science to computer science principles\n",
    "\n",
    "var passionProj = \"How many minutes did you practice __ today?\"\n",
    "console.log(passionProj)\n",
    "// Basis of Passion Project - Instrument Practice Log\n",
    "\n",
    "console.log(typeof obj)\n",
    "console.log(typeof passionProj)"
   ]
  }
 ],
 "metadata": {
  "kernelspec": {
   "display_name": "Python 3 (ipykernel)",
   "language": "python",
   "name": "python3"
  },
  "language_info": {
   "codemirror_mode": {
    "name": "ipython",
    "version": 3
   },
   "file_extension": ".py",
   "mimetype": "text/x-python",
   "name": "python",
   "nbconvert_exporter": "python",
   "pygments_lexer": "ipython3",
   "version": "3.9.12"
  }
 },
 "nbformat": 4,
 "nbformat_minor": 4
}
