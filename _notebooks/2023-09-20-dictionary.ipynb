{
 "cells": [
  {
   "cell_type": "code",
   "execution_count": null,
   "metadata": {},
   "outputs": [],
   "source": [
    "# Creating a Dictionary - About Us\n",
    "about_lakshanya = ({\n",
    "        \"FirstName\": \"Lakshanya\",\n",
    "        \"LastName\": \"Sankaran\",\n",
    "        \"DOB\": \"August 15\",\n",
    "        \"Residence\": \"San Diego\",\n",
    "        \"Siblings\": [\"Shriya - 18, Sushant - 11\"],\n",
    "        \"CountriesTraveled\": [\"US, India, Canada, Indonesia, Japan, Belize, Portugal, UK\"]\n",
    "    })\n",
    "\n",
    "    # 2nd row\n",
    "about_avanthika({\n",
    "        \"FirstName\": \"Avanthika\",\n",
    "        \"LastName\": \"Daita\",\n",
    "        \"DOB\": \"April 23\",\n",
    "        \"Residence\": \"San Diego\",\n",
    "        \"Siblings\": \"Aadya - 16\",\n",
    "        \"StatesTraveled\": [\"California, Arizona, Montana, Idaho, Nevada, Florida, New Jersey, New York, New Mexico, Wyoming\"]\n",
    "    })"
   ]
  }
 ],
 "metadata": {
  "kernelspec": {
   "display_name": "Python 3 (ipykernel)",
   "language": "python",
   "name": "python3"
  },
  "language_info": {
   "name": "python"
  }
 },
 "nbformat": 4,
 "nbformat_minor": 2
}
