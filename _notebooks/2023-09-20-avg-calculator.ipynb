{
 "cells": [
  {
   "cell_type": "code",
   "execution_count": 4,
   "metadata": {},
   "outputs": [
    {
     "name": "stdout",
     "output_type": "stream",
     "text": [
      "Print test data: 100\n",
      "Mean of single number: 100\n",
      "\n",
      "Print test data: [90.5, 100, 85.4, 88]\n",
      "Average score, loop method: 90.98\n",
      "Average score, function method: 90.98\n",
      "\n",
      "Print test data: [100, 'NaN', 90]\n",
      "Bad data: NaN in [100, 'NaN', 90]\n"
     ]
    },
    {
     "ename": "SystemExit",
     "evalue": "",
     "output_type": "error",
     "traceback": [
      "An exception has occurred, use %tb to see the full traceback.\n",
      "\u001b[0;31mSystemExit\u001b[0m\n"
     ]
    },
    {
     "name": "stderr",
     "output_type": "stream",
     "text": [
      "/usr/lib/python3/dist-packages/IPython/core/interactiveshell.py:3465: UserWarning: To exit: use 'exit', 'quit', or Ctrl-D.\n",
      "  warn(\"To exit: use 'exit', 'quit', or Ctrl-D.\", stacklevel=1)\n"
     ]
    }
   ],
   "source": [
    "import sys\n",
    "from typing import Union\n",
    "\n",
    "# Define types for mean function, trying to analyze input possibilities\n",
    "Number = Union[int, float]  # Number can be either int or float type\n",
    "Numbers = list[Number] # Numbers is a list of Number types\n",
    "Scores = Union[Number, Numbers] # Scores can be single or multiple \n",
    "\n",
    "def mean(scores: Scores, method: int = 1) -> float:\n",
    "    \"\"\"\n",
    "    Calculate the mean of a list of scores.\n",
    "    \n",
    "    Average and Average2 are hidden functions performing mean algorithm\n",
    "\n",
    "    If a single score is provided in scores, it is returned as the mean.\n",
    "    If a list of scores is provided, the average is calculated and returned.\n",
    "    \"\"\"\n",
    "    \n",
    "    def average(scores): \n",
    "        \"\"\"Calculate the average of a list of scores using a Python for loop with rounding.\"\"\"\n",
    "        sum = 0\n",
    "        len = 0\n",
    "        for score in scores:\n",
    "            if isinstance(score, Number):\n",
    "                sum += score\n",
    "                len += 1\n",
    "            else:\n",
    "                print(\"Bad data: \" + str(score) + \" in \" + str(scores))\n",
    "                sys.exit()\n",
    "        return sum / len\n",
    "    \n",
    "    def average2(scores):\n",
    "        \"\"\"Calculate the average of a list of scores using the built-in sum() function with rounding.\"\"\"\n",
    "        return sum(scores) / len(scores)\n",
    "\n",
    "    # test to see if scores is  a list of numbers\n",
    "    if isinstance(scores, list):\n",
    "        if method == 1:  \n",
    "            # long method\n",
    "            result = average(scores)\n",
    "        else:\n",
    "            # built in method\n",
    "            result = average2(scores)\n",
    "        return round(result + 0.005, 2)\n",
    "    \n",
    "    return scores # case where scores is a single value\n",
    "\n",
    "# try with one number\n",
    "singleScore = 100\n",
    "print(\"Print test data: \" + str(singleScore))  # concat data for single line\n",
    "print(\"Mean of single number: \" + str(mean(singleScore)))\n",
    "\n",
    "print()\n",
    "\n",
    "# define a list of numbers\n",
    "testScores = [90.5, 100, 85.4, 88]\n",
    "print(\"Print test data: \" + str(testScores))\n",
    "print(\"Average score, loop method: \" + str(mean(testScores)))\n",
    "print(\"Average score, function method: \" +  str(mean(testScores, 2)))\n",
    "\n",
    "print()\n",
    "\n",
    "badData = [100, \"NaN\", 90]\n",
    "print(\"Print test data: \" + str(badData))\n",
    "print(\"Mean with bad data: \" + str(mean(badData)))"
   ]
  },
  {
   "cell_type": "code",
   "execution_count": 2,
   "metadata": {},
   "outputs": [
    {
     "name": "stdout",
     "output_type": "stream",
     "text": [
      "Average: 30.0\n"
     ]
    }
   ],
   "source": [
    "def calculate_average(numbers_set):\n",
    "    if not numbers_set:\n",
    "        return None\n",
    "    \n",
    "    total_sum = sum(numbers_set)\n",
    "    average = total_sum / len(numbers_set)\n",
    "    return average\n",
    "\n",
    "# Example usage\n",
    "numbers_set = {10, 20, 30, 40, 50}\n",
    "average = calculate_average(numbers_set)\n",
    "print(\"Average:\", average)\n",
    "\n",
    "import unittest\n",
    "class TestAverage(unittest.TestCase):\n",
    "    #tests calc_average\n",
    "    def test_average(self):\n",
    "        numbers_set = {4,4}\n",
    "        self.assertEqual(calculate_average(numbers_set), 4, msg='Equal')\n",
    "        numbers_set = {8,4,6}\n",
    "        self.assertEqual(calculate_average(numbers_set), 6, msg='Equal')\n",
    "    #\n",
    "# unittest.main(argv=[''], verbosity=2, exit=False)\n",
    "# Runs test but prevents output from being printed, so leave this commented\n",
    "# unless you want to run tests"
   ]
  }
 ],
 "metadata": {
  "kernelspec": {
   "display_name": "Python 3",
   "language": "python",
   "name": "python3"
  },
  "language_info": {
   "codemirror_mode": {
    "name": "ipython",
    "version": 3
   },
   "file_extension": ".py",
   "mimetype": "text/x-python",
   "name": "python",
   "nbconvert_exporter": "python",
   "pygments_lexer": "ipython3",
   "version": "3.10.12"
  },
  "orig_nbformat": 4
 },
 "nbformat": 4,
 "nbformat_minor": 2
}
