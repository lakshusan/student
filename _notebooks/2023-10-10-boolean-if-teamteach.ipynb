{
 "cells": [
  {
   "cell_type": "markdown",
   "metadata": {},
   "source": [
    "## Boolean  - Team Teach"
   ]
  },
  {
   "cell_type": "code",
   "execution_count": null,
   "metadata": {},
   "outputs": [],
   "source": [
    "# Hack 1\n",
    "\n",
    "# Add a variable that represents an age.\n",
    "\n",
    "# Add an 'if' and 'print' function that says \"You are an adult\" if your age is greater than or equal to 18.\n",
    "\n",
    "# Make a function that prints \"You are a minor\" with the else function."
   ]
  },
  {
   "cell_type": "code",
   "execution_count": null,
   "metadata": {},
   "outputs": [],
   "source": [
    "## Hack 1 Key\n",
    "\n",
    "age = 25\n",
    "\n",
    "if age >= 18:\n",
    "    print(\"You are an adult.\")\n",
    "else:\n",
    "    print(\"You are a minor.\")"
   ]
  },
  {
   "cell_type": "code",
   "execution_count": null,
   "metadata": {},
   "outputs": [],
   "source": [
    "# Hack 2\n",
    "\n",
    "# Make a variable called 'is_raining' and set it to 'True\".\n",
    "\n",
    "# Make an if statement that prints \"Bring an umbrella!\" if it is true\n",
    "\n",
    "# Make an else statement that says \"The weather is clear\"."
   ]
  },
  {
   "cell_type": "code",
   "execution_count": null,
   "metadata": {},
   "outputs": [],
   "source": [
    "# Hack 2 Key\n",
    "\n",
    "is_raining = True\n",
    "\n",
    "if is_raining:\n",
    "    print(\"Bring an umbrella!\")\n",
    "else:\n",
    "    print(\"The weather is clear.\")\n"
   ]
  },
  {
   "cell_type": "code",
   "execution_count": null,
   "metadata": {},
   "outputs": [],
   "source": [
    "# Hack 3\n",
    "\n",
    "import random\n",
    "\n",
    "# Make a function to randomize numbers between 0 and 100 to be assigned to variables a and b using random.randint\n",
    "\n",
    "# Print the values of the variables\n",
    "\n",
    "# Print the relationship of the variables; a is more than, same as, or less than b\n"
   ]
  },
  {
   "cell_type": "code",
   "execution_count": null,
   "metadata": {},
   "outputs": [],
   "source": [
    "# Hack 3 Key (Challenge)\n",
    "\n",
    "import random\n",
    "\n",
    "# Chooses a random number between 0 and 100 for each a and b\n",
    "a = random.randint(0, 100)\n",
    "b = random.randint(0, 100)\n",
    "print(a)\n",
    "print(b)\n",
    "\n",
    "# Prints the randomly assigned values of a and b (between 0 and 100)\n",
    "if a > b:\n",
    "    print(\"a is more than b\")\n",
    "elif a == b:\n",
    "    print(\"a is the same as b\")\n",
    "else:\n",
    "    print(\"a is less than b\")"
   ]
  }
 ],
 "metadata": {
  "language_info": {
   "name": "python"
  }
 },
 "nbformat": 4,
 "nbformat_minor": 2
}
