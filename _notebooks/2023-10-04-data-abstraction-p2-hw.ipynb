{
 "cells": [
  {
   "cell_type": "markdown",
   "metadata": {},
   "source": [
    "---\n",
    "toc: true\n",
    "comments: false\n",
    "layout: post\n",
    "title: Team Teaching\n",
    "type: ccc\n",
    "permalink: /teamteach/data-abstractions\n",
    "courses: { compsci: {week: 7} }\n",
    "---"
   ]
  },
  {
   "cell_type": "raw",
   "metadata": {},
   "source": [
    "{% include teamteach_hw.html %}"
   ]
  },
  {
   "cell_type": "markdown",
   "metadata": {},
   "source": [
    "### Introduction\n",
    "- Here is the homework prompt"
   ]
  },
  {
   "cell_type": "markdown",
   "metadata": {},
   "source": [
    "### Problem 1\n",
    "- Two airplanes are in a race, your job is to make a plane name list, append the name value to the participents  then make a variable that pulls the distance covered for each plane. in the end, in the curly brackets print the name of the plane, add more variables with curly brackets. "
   ]
  },
  {
   "cell_type": "code",
   "execution_count": 2,
   "metadata": {},
   "outputs": [
    {
     "name": "stdout",
     "output_type": "stream",
     "text": [
      "Billium Bang in the 'Red Rocket' covered a distance of 1200 miles.\n",
      "Bushawn Bal in the 'The Biggest Bird' covered a distance of 1500 miles.\n",
      "The winner of the airplane race is Bushawn Bal in the 'The Biggest Bird' with a distance of 1500 miles!\n"
     ]
    }
   ],
   "source": [
    "# Define a list of airplane race participants\n",
    "participants = [\n",
    "    {\"name\": \"Billium Bang\", \"plane\": \"Red Rocket\", \"distance_covered\": 1200},\n",
    "    {\"name\": \"Bushawn Bal\", \"plane\": \"The Biggest Bird\", \"distance_covered\": 1500}\n",
    "]\n",
    "\n",
    "# Calculate the total distance covered by each pilot during the race\n",
    "for participant in participants:\n",
    "    \n",
    "    name = participant[\"name\"]\n",
    "    plane = participant[\"plane\"]\n",
    "    distance_covered = participant[\"distance_covered\"]\n",
    "    print(f\"{name} in the '{plane}' covered a distance of {distance_covered} miles.\")\n",
    "\n",
    "# Determine the winner\n",
    "winner = max(participants, key=lambda x: x[\"distance_covered\"])\n",
    "print(f\"The winner of the airplane race is {winner['name']} in the '{winner['plane']}' with a distance of {winner['distance_covered']} miles!\")\n"
   ]
  },
  {
   "cell_type": "markdown",
   "metadata": {},
   "source": [
    "### Problem 2\n",
    "- Add more participants , in the loop, add a tricks variable that gets data from participants list\n",
    "    score = tricks * 10  # Each trick is worth 10 points\n",
    "    add a score and add it to a score in the list ex list[score] = score"
   ]
  },
  {
   "cell_type": "code",
   "execution_count": 7,
   "metadata": {},
   "outputs": [
    {
     "name": "stdout",
     "output_type": "stream",
     "text": [
      "Dog Show Results:\n",
      "Fido the Golden Retriever scored 40 points.\n",
      "Jeff the Black Labrador scored 60 points.\n",
      "Harry Pottah the Chihuahua scored 500 points.\n",
      "The winner of the dog show is Harry Pottah with 500 points!\n"
     ]
    }
   ],
   "source": [
    "# Define a list of dog show participants\n",
    "participants = [\n",
    "    {\"name\": \"Fido\", \"breed\": \"Golden Retriever\", \"tricks\": 4},\n",
    "    {\"name\": \"Jeff\", \"breed\": \"Black Labrador\", \"tricks\": 6},\n",
    "    {\"name\": \"Harry\", \"breed\": \"Chihuahua\", \"tricks\": 50}\n",
    "]\n",
    "\n",
    "# Calculate the scores for each dog based on the number of tricks they can perform\n",
    "for participant in participants:\n",
    "    tricks = participant[\"tricks\"]\n",
    "    score = tricks * 10  # Each trick is worth 10 points\n",
    "    participant[\"score\"] = score\n",
    "\n",
    "# Determine the winning dog\n",
    "winner = max(participants, key=lambda x: x[\"score\"])\n",
    "\n",
    "# Display the dog show results\n",
    "print(\"Dog Show Results:\")\n",
    "for participant in participants:\n",
    "    print(f\"{participant['name']} the {participant['breed']} scored {participant['score']} points.\")\n",
    "\n",
    "print(f\"The winner of the dog show is {winner['name']} with {winner['score']} points!\")"
   ]
  },
  {
   "cell_type": "markdown",
   "metadata": {},
   "source": [
    "this problem, we're making a bank account, you just have to know what to do to add all of the functions to change the variables"
   ]
  },
  {
   "cell_type": "code",
   "execution_count": null,
   "metadata": {},
   "outputs": [],
   "source": [
    "class BankAccount:\n",
    "    def __init__(self, account_holder, balance=0):\n",
    "        self.account_holder = account_holder\n",
    "        self.balance = balance\n",
    "\n",
    "    def deposit(self, amount):\n",
    "        if amount > 0:\n",
    "            self.balance += amount\n",
    "            print(f\"Deposited ${amount}. New balance: ${self.balance}\")\n",
    "        else:\n",
    "            print(\"Invalid deposit amount.\")\n",
    "\n",
    "    def withdraw(self, amount):\n",
    "        if 0 < amount <= self.balance:\n",
    "            self.balance -= amount\n",
    "            print(f\"Withdrawn ${amount}. New balance: ${self.balance}\")\n",
    "        else:\n",
    "            print(\"Insufficient funds.\")\n",
    "\n",
    "    def get_balance(self):\n",
    "        return self.balance\n",
    "\n",
    "    def __str__(self):\n",
    "        return f\"Account Holder: {self.account_holder}, Balance: ${self.balance}\"\n",
    "\n",
    "\n",
    "# Create two bank accounts: Alex with $1000 initially and Noah with $5 initially\n",
    "alexAccount = BankAccount(\"Alex\", 1000)\n",
    "noahAccount = BankAccount(\"Noah\", 5)\n",
    "\n",
    "# Perform transactions\n",
    "alexAccount.withdraw(alexAccount.get_balance())  # Withdraw all money from Alex\n",
    "noahAccount.deposit(alexAccount.get_balance())  # Deposit all of Alex's money into Noah's account\n",
    "noahAccount.withdraw(noahAccount.get_balance())  # Noah spends all his money\n",
    "\n",
    "# Display account information\n",
    "print(\"Alex Account:\", alexAccount)\n",
    "print(\"Noah Account:\", noahAccount)"
   ]
  },
  {
   "cell_type": "markdown",
   "metadata": {},
   "source": [
    "### add more regions\n"
   ]
  },
  {
   "cell_type": "code",
   "execution_count": null,
   "metadata": {},
   "outputs": [],
   "source": [
    "import random\n",
    "\n",
    "# Define a list of regions, each represented as a dictionary\n",
    "regions = [\n",
    "    {\n",
    "        \"name\": \"Region A\",\n",
    "        \"GDP_growth\": random.uniform(0.5, 3.0),  # Random GDP growth rate between 0.5% and 3.0%\n",
    "        \"unemployment_rate\": random.uniform(3.0, 10.0),  # Random unemployment rate between 3.0% and 10.0%\n",
    "        \"investment_score\": random.uniform(50, 100),  # Random investment score between 50 and 100\n",
    "        \"education_index\": random.uniform(0.5, 1.0),  # Random education index between 0.5 and 1.0\n",
    "        \"infrastructure_quality\": random.uniform(3.0, 8.0)  # Random infrastructure quality between 3.0 and 8.0 (scale of 1-10)\n",
    "    },\n",
    "    # Define more regions\n",
    "]\n",
    "\n",
    "# Define weights for each economic indicator\n",
    "weights = {\n",
    "    \"GDP_growth\": 0.4,\n",
    "    \"unemployment_rate\": -0.2,\n",
    "    \"investment_score\": 0.3,\n",
    "    \"education_index\": 0.1,\n",
    "    \"infrastructure_quality\": 0.2\n",
    "}\n",
    "\n",
    "# Function to calculate a score for each region based on economic indicators and weights\n",
    "def calculate_score(region):\n",
    "    score = 0\n",
    "    for indicator, weight in weights.items():\n",
    "        score += region[indicator] * weight\n",
    "    return score\n",
    "\n",
    "# Find the region with the highest economic growth potential\n",
    "best_region = max(regions, key=calculate_score)\n",
    "\n",
    "# Display information about the winning region\n",
    "print(f\"The region with the highest economic growth potential is {best_region['name']}:\")\n",
    "print(f\"- GDP Growth Rate: {best_region['GDP_growth']:.2f}%\")\n",
    "print(f\"- Unemployment Rate: {best_region['unemployment_rate']:.2f}%\")\n",
    "print(f\"- Investment Score: {best_region['investment_score']:.2f}\")\n",
    "print(f\"- Education Index: {best_region['education_index']:.2f}\")\n",
    "print(f\"- Infrastructure Quality: {best_region['infrastructure_quality']:.2f}\")\n"
   ]
  },
  {
   "cell_type": "markdown",
   "metadata": {},
   "source": [
    "### problem final\n",
    "\n",
    "- make an empty list and dictionary\n",
    "- add data in all of the given simple loops, so that this problem runs its print functions without error\n",
    "- this one is hard, try very hard, a heartfelt atempt, like all of the code done with minor issues is still full credit\n",
    "\n",
    "try to understand this problem, it has lots of data abstractions\n",
    "\n",
    "data is given on the bottom and a function is calling it IMPORTANT!!!\n"
   ]
  },
  {
   "cell_type": "code",
   "execution_count": null,
   "metadata": {},
   "outputs": [],
   "source": [
    "def simulate_data_structure(data):\n",
    "    # Initialize empty dictionary and list\n",
    "    city_data = {}\n",
    "    city_stats = {\"total_cities\": 0, \"total_people\": 0}\n",
    "\n",
    "    for person in data:\n",
    "        name = person[\"name\"]\n",
    "        age = person[\"age\"]\n",
    "        city = person[\"city\"]\n",
    "\n",
    "        # 1. Create a dictionary of city data\n",
    "        if city not in city_data:\n",
    "            city_data[city] = {\"names\": [], \"total_age\": 0, \"total_people\": 0}\n",
    "\n",
    "        city_data[city][\"names\"].append(name)  # Add the name to the city's list\n",
    "        city_data[city][\"total_age\"] += age  # Add the age to the city's total age\n",
    "        city_data[city][\"total_people\"] += 1  # Increment the total people count\n",
    "\n",
    "    for city, city_info in city_data.items():\n",
    "        # 2. Calculate the average age for each city\n",
    "        average_age = city_info[\"total_age\"] / city_info[\"total_people\"]\n",
    "        city_info[\"average_age\"] = round(average_age, 2)  # Round to 2 decimal places\n",
    "\n",
    "        # 3. Create a dictionary for city statistics\n",
    "        city_stats[city] = {\"average_age\": city_info[\"average_age\"], \"total_people\": city_info[\"total_people\"]}\n",
    "\n",
    "    # Update overall statistics\n",
    "    city_stats[\"total_cities\"] = len(city_data)\n",
    "    city_stats[\"total_people\"] = sum(city_info[\"total_people\"] for city_info in city_data.values())\n",
    "\n",
    "    # Add the city statistics under the \"Statistics\" key\n",
    "    city_data[\"Statistics\"] = city_stats\n",
    "\n",
    "    return city_data\n",
    "\n",
    "\n",
    "# Example data\n",
    "data = [\n",
    "    {\"name\": \"Alice\", \"age\": 25, \"city\": \"New York\"},\n",
    "    {\"name\": \"Bob\", \"age\": 30, \"city\": \"Los Angeles\"},\n",
    "    {\"name\": \"Charlie\", \"age\": 22, \"city\": \"New York\"},\n",
    "    {\"name\": \"David\", \"age\": 35, \"city\": \"Los Angeles\"},\n",
    "    {\"name\": \"Eve\", \"age\": 28, \"city\": \"Chicago\"},\n",
    "]\n",
    "\n",
    "# Add data to ensure the code runs without errors\n",
    "city_data = {}\n",
    "city_stats = {}\n",
    "\n",
    "result = simulate_data_structure(data)\n",
    "print(result)"
   ]
  }
 ],
 "metadata": {
  "kernelspec": {
   "display_name": "Python 3",
   "language": "python",
   "name": "python3"
  },
  "language_info": {
   "codemirror_mode": {
    "name": "ipython",
    "version": 3
   },
   "file_extension": ".py",
   "mimetype": "text/x-python",
   "name": "python",
   "nbconvert_exporter": "python",
   "pygments_lexer": "ipython3",
   "version": "3.10.12"
  },
  "orig_nbformat": 4
 },
 "nbformat": 4,
 "nbformat_minor": 2
}
