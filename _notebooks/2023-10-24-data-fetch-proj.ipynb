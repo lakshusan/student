{
 "cells": [
  {
   "cell_type": "code",
   "execution_count": 15,
   "metadata": {
    "vscode": {
     "languageId": "html"
    }
   },
   "outputs": [
    {
     "ename": "SyntaxError",
     "evalue": "invalid syntax (3403678232.py, line 1)",
     "output_type": "error",
     "traceback": [
      "\u001b[0;36m  File \u001b[0;32m\"/tmp/ipykernel_166190/3403678232.py\"\u001b[0;36m, line \u001b[0;32m1\u001b[0m\n\u001b[0;31m    <form action = \"javascript:practice_log()\">\u001b[0m\n\u001b[0m    ^\u001b[0m\n\u001b[0;31mSyntaxError\u001b[0m\u001b[0;31m:\u001b[0m invalid syntax\n"
     ]
    }
   ],
   "source": [
    "<form action = \"javascript:practice_log()\">\n",
    "    <p><label>\n",
    "        Name:\n",
    "        <input type=\"text\" name=\"name\" id=\"name\" required=\"\" />\n",
    "    </label></p>\n",
    "    <p><label>\n",
    "        Instrument:\n",
    "        <input type=\"instrument\" name=\"instrument\" id=\"instrument\" required=\"\" />\n",
    "    <p><label>\n",
    "        Time Practiced:\n",
    "        <input type=\"number\" name=\"passwordV\" id=\"passwordV\" required=\"\" />\n",
    "    </label></p>\n",
    "    <p>\n",
    "        <button>Save</button>\n",
    "    </p>\n",
    "</form>\n",
    "<script>\n",
    "    fetch('https://ikan2025.github.io/frontend/', {\n",
    "        method: 'POST',\n",
    "        headers: {\n",
    "            'Content-Type': 'application/json',\n",
    "        },\n",
    "        body: JSON.stringify(formData),\n",
    "    })\n",
    "    .then(response => response.json())\n",
    "    .then(data => {\n",
    "        console.log(data.message);\n",
    "    })\n",
    "    .catch(error => {\n",
    "        console.error('Error:', error);\n",
    "    });"
   ]
  }
 ],
 "metadata": {
  "kernelspec": {
   "display_name": "Python 3",
   "language": "python",
   "name": "python3"
  },
  "language_info": {
   "codemirror_mode": {
    "name": "ipython",
    "version": 3
   },
   "file_extension": ".py",
   "mimetype": "text/x-python",
   "name": "python",
   "nbconvert_exporter": "python",
   "pygments_lexer": "ipython3",
   "version": "3.10.12"
  }
 },
 "nbformat": 4,
 "nbformat_minor": 2
}
