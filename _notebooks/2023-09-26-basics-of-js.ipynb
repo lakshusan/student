{
 "cells": [
  {
   "cell_type": "markdown",
   "metadata": {},
   "source": [
    "---\n",
    "title: Basics of Javascript\n",
    "description: A Tech Talk on how to use javascript\n",
    "type: ccc\n",
    "permalink: /basics/javascript\n",
    "comments: true\n",
    "---"
   ]
  },
  {
   "cell_type": "raw",
   "metadata": {},
   "source": [
    "{% include nav_basics.html %}\n"
   ]
  },
  {
   "cell_type": "code",
   "execution_count": null,
   "metadata": {},
   "outputs": [],
   "source": [
    "%%js\n",
    "\n",
    "console.log(\"If statements + Operators\")\n",
    "var a = Math.floor(Math.random() * 101)\n",
    "var b = Math.floor(Math.random() * 101)\n",
    "console.log(a)\n",
    "console.log(b)\n",
    "// Prints the randomly assigned values of a and b (between 0 and 100)\n",
    "if (a > b) {\n",
    "    console.log(\"a is more than b\");\n",
    "} else if (a == b) {\n",
    "    console.log(\"a is the same as b\");\n",
    "} else {\n",
    "    console.log(\"a is less than b\");\n",
    "}\n",
    "// Uses randomization, result changes based on random variable value (between 0 and 100)"
   ]
  }
 ],
 "metadata": {
  "kernelspec": {
   "display_name": "Python 3",
   "language": "python",
   "name": "python3"
  },
  "language_info": {
   "codemirror_mode": {
    "name": "ipython",
    "version": 3
   },
   "file_extension": ".py",
   "mimetype": "text/x-python",
   "name": "python",
   "nbconvert_exporter": "python",
   "pygments_lexer": "ipython3",
   "version": "3.11.4"
  },
  "orig_nbformat": 4
 },
 "nbformat": 4,
 "nbformat_minor": 2
}
