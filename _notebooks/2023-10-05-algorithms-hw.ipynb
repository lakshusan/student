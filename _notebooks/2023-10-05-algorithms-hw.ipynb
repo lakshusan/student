{
 "cells": [
  {
   "cell_type": "markdown",
   "metadata": {},
   "source": [
    "---\n",
    "toc: true\n",
    "comments: false\n",
    "layout: post\n",
    "title: Team Teaching\n",
    "type: ccc\n",
    "permalink: /teamteach/algorithms\n",
    "courses: { compsci: {week: 7} }\n",
    "---"
   ]
  },
  {
   "cell_type": "raw",
   "metadata": {},
   "source": [
    "{% include teamteach_hw.html %}"
   ]
  },
  {
   "cell_type": "code",
   "execution_count": null,
   "metadata": {},
   "outputs": [],
   "source": [
    "def text_analyzer(text):\n",
    "    # Convert the text to lowercase to handle case insensitivity\n",
    "    text = text.lower()\n",
    "\n",
    "    total_chars = len(text)\n",
    "    total_letters = sum(c.isalpha() for c in text)\n",
    "    total_numbers = sum(c.isdigit() for c in text)\n",
    "    total_spaces = sum(c.isspace() for c in text)\n",
    "\n",
    "    vowels = 'aeiou'\n",
    "    total_vowels = sum(c in vowels for c in text)\n",
    "\n",
    "    words = text.split()\n",
    "    total_word_count = len(words)\n",
    "\n",
    "    if total_word_count == 0:\n",
    "        average_word_length = 0\n",
    "    else:\n",
    "        total_word_length = sum(len(word) for word in words)\n",
    "        average_word_length = total_word_length / total_word_count\n",
    "\n",
    "    # Display the analysis results\n",
    "    print(\"Analysis Results:\")\n",
    "    print(\"Total characters (including spaces and numbers):\", total_chars)\n",
    "    print(\"Total letters:\", total_letters)\n",
    "    print(\"Total numbers:\", total_numbers)\n",
    "    print(\"Total spaces:\", total_spaces)\n",
    "    print(\"Total vowels:\", total_vowels)\n",
    "    print(\"Average word length:\", average_word_length)\n",
    "\n",
    "\n",
    "# Accept input from the user\n",
    "user_text = input(\"Enter a text for analysis: \")\n",
    "\n",
    "# Analyze the provided text\n",
    "text_analyzer(user_text)"
   ]
  }
 ],
 "metadata": {
  "language_info": {
   "name": "python"
  },
  "orig_nbformat": 4
 },
 "nbformat": 4,
 "nbformat_minor": 2
}
