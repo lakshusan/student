{
 "cells": [
  {
   "cell_type": "markdown",
   "metadata": {},
   "source": [
    "---\n",
    "layout: post\n",
    "title: Developing Algorithms Homework\n",
    "description: Developing algorithms homework assignment\n",
    "courses: { compsci: {week: 9} }\n",
    "type: ccc\n",
    "permalink: /teamteach/developing-algorithms\n",
    "comments: true\n",
    "---"
   ]
  },
  {
   "cell_type": "markdown",
   "metadata": {},
   "source": [
    "# Homework: \n",
    "\n",
    "1. Create a program that follows the Collatz Conjecture. \n",
    "\n",
    "If a number is even, divide by 2.\n",
    "\n",
    "If a number is odd, multiply by 3 and add 1.\n",
    "\n",
    "If implemented correctly this algorithm will eventually go to 1. Try defining the initial number with any number beside 1 to see an interesting ouput. Output the result as a list. You may set a starting value for the list, so that the program can generate the list of numbers created when following the process. \n",
    "\n",
    "Ideas for above 90%:\n",
    "Try implementing user input into this program. Ask the user to enter a number they would like to start with. \n"
   ]
  },
  {
   "cell_type": "code",
   "execution_count": 2,
   "metadata": {},
   "outputs": [
    {
     "name": "stdout",
     "output_type": "stream",
     "text": [
      "Collatz sequence: [3, 10, 5, 16, 8, 4, 2, 1]\n"
     ]
    }
   ],
   "source": [
    "def collatz_conjecture(n):\n",
    "    sequence = [n]\n",
    "\n",
    "    while n != 1:\n",
    "        if n % 2 == 0:\n",
    "            n = n // 2\n",
    "        else:\n",
    "            n = 3 * n + 1\n",
    "        sequence.append(n)\n",
    "\n",
    "    return sequence\n",
    "\n",
    "# Input start number\n",
    "try:\n",
    "    start_number = int(input(\"Enter a starting number: \"))\n",
    "    if start_number <= 0:\n",
    "        print(\"Please enter a positive integer as the starting number.\")\n",
    "    else:\n",
    "        result = collatz_conjecture(start_number)\n",
    "        print(\"Collatz sequence:\", result)\n",
    "except ValueError:\n",
    "    print(\"Please enter a valid integer as the starting number.\")\n"
   ]
  },
  {
   "cell_type": "markdown",
   "metadata": {},
   "source": [
    "2. Create an algorithm that generates terms to the Fibonacci Sequence which outputs a specific number of terms defined in your code. The sequence starts off like 1, 1, 2, 3, 5, … each following term being the sum of the previous two.\n",
    "\n",
    "Ideas for above 90%:\n",
    "\n",
    "- Add user input\n",
    "- Display error message when an invalid input is specified\n",
    "- Find a way for the program to only specify a specific term in the sequence"
   ]
  },
  {
   "cell_type": "code",
   "execution_count": 3,
   "metadata": {},
   "outputs": [
    {
     "name": "stdout",
     "output_type": "stream",
     "text": [
      "Fibonacci sequence with 6 terms: [1, 1, 2, 3, 5, 8]\n"
     ]
    }
   ],
   "source": [
    "def generate_fibonacci_sequence(num_terms):\n",
    "    if num_terms <= 0:\n",
    "        return []\n",
    "\n",
    "    sequence = [1, 1]  # Initialize the sequence with the first two terms\n",
    "\n",
    "    while len(sequence) < num_terms:\n",
    "        next_term = sequence[-1] + sequence[-2]\n",
    "        sequence.append(next_term)\n",
    "\n",
    "    return sequence\n",
    "\n",
    "try:\n",
    "    num_terms = int(input(\"Enter the number of Fibonacci terms to generate: \"))\n",
    "    \n",
    "    if num_terms <= 0:\n",
    "        print(\"Please enter a positive integer greater than 0.\")\n",
    "    else:\n",
    "        result = generate_fibonacci_sequence(num_terms)\n",
    "        \n",
    "        if result:\n",
    "            print(\"Fibonacci sequence with\", num_terms, \"terms:\", result)\n",
    "        else:\n",
    "            print(\"An error occurred while generating the sequence.\")\n",
    "except ValueError:\n",
    "    print(\"Please enter a valid integer as the number of terms.\")\n"
   ]
  },
  {
   "cell_type": "markdown",
   "metadata": {},
   "source": [
    "3. Make a statistics calculator that calculates the mean, median, and mode of a specific series. Do this using iteration and without the use of imported modules (like the statistics one) that allows you to call pre defined functions like mean, median, and mode. Each of these calculations follows an algorithm. \n",
    "\n",
    "Ideas for above 90%:\n",
    "\n",
    "- Randomly generate a list of numbers (you can define it as a list of 5) to apply the calculator to.\n",
    "- If you can, generate a random number of elements in the data set as well (keep it between 5-10 elements). "
   ]
  },
  {
   "cell_type": "code",
   "execution_count": 4,
   "metadata": {},
   "outputs": [
    {
     "name": "stdout",
     "output_type": "stream",
     "text": [
      "Random List of Numbers: [38, 31, 98, 29, 9, 18, 62, 98, 61, 99]\n",
      "Mean: 54.3\n",
      "Median: 49.5\n",
      "Mode: [98]\n"
     ]
    }
   ],
   "source": [
    "import random\n",
    "\n",
    "def mean(numbers):\n",
    "    if len(numbers) == 0:\n",
    "        return None\n",
    "    return sum(numbers) / len(numbers)\n",
    "\n",
    "def median(numbers):\n",
    "    sorted_numbers = sorted(numbers)\n",
    "    n = len(sorted_numbers)\n",
    "    if n % 2 == 1:\n",
    "        return sorted_numbers[n // 2]\n",
    "    else:\n",
    "        mid1 = sorted_numbers[(n // 2) - 1]\n",
    "        mid2 = sorted_numbers[n // 2]\n",
    "        return (mid1 + mid2) / 2\n",
    "\n",
    "def mode(numbers):\n",
    "    if len(numbers) == 0:\n",
    "        return None\n",
    "    counts = {}\n",
    "    for num in numbers:\n",
    "        if num in counts:\n",
    "            counts[num] += 1\n",
    "        else:\n",
    "            counts[num] = 1\n",
    "    mode = [k for k, v in counts.items() if v == max(counts.values())]\n",
    "    return mode\n",
    "\n",
    "# Generate a random list of numbers with a random number of elements between 5 and 10\n",
    "num_elements = random.randint(5, 10)\n",
    "random_numbers = [random.randint(1, 100) for _ in range(num_elements)]\n",
    "\n",
    "print(\"Random List of Numbers:\", random_numbers)\n",
    "print(\"Mean:\", mean(random_numbers))\n",
    "print(\"Median:\", median(random_numbers))\n",
    "print(\"Mode:\", mode(random_numbers))"
   ]
  }
 ],
 "metadata": {
  "kernelspec": {
   "display_name": "Python 3",
   "language": "python",
   "name": "python3"
  },
  "language_info": {
   "codemirror_mode": {
    "name": "ipython",
    "version": 3
   },
   "file_extension": ".py",
   "mimetype": "text/x-python",
   "name": "python",
   "nbconvert_exporter": "python",
   "pygments_lexer": "ipython3",
   "version": "3.10.12"
  }
 },
 "nbformat": 4,
 "nbformat_minor": 2
}
