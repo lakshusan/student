{
 "cells": [
  {
   "cell_type": "markdown",
   "metadata": {},
   "source": [
    "---\n",
    "layout: post\n",
    "title: Developing Algorithms Homework\n",
    "description: Developing algorithms homework assignment\n",
    "courses: { compsci: {week: 9} }\n",
    "type: ccc\n",
    "permalink: /teamteach/developing-algorithms\n",
    "comments: true\n",
    "---"
   ]
  },
  {
   "cell_type": "markdown",
   "metadata": {},
   "source": [
    "# Homework: \n",
    "\n",
    "1. Create a program that follows the Collatz Conjecture. \n",
    "\n",
    "If a number is even, divide by 2.\n",
    "\n",
    "If a number is odd, multiply by 3 and add 1.\n",
    "\n",
    "If implemented correctly this algorithm will eventually go to 1. Try defining the initial number with any number beside 1 to see an interesting ouput. Output the result as a list. You may set a starting value for the list, so that the program can generate the list of numbers created when following the process. \n",
    "\n",
    "Ideas for above 90%:\n",
    "Try implementing user input into this program. Ask the user to enter a number they would like to start with. \n"
   ]
  },
  {
   "cell_type": "code",
   "execution_count": null,
   "metadata": {},
   "outputs": [],
   "source": [
    "def collatz_conjecture(n):\n",
    "    sequence = [n]\n",
    "    while n != 1:\n",
    "        if n % 2 == 0:\n",
    "            n = n // 2\n",
    "        else:\n",
    "            n = 3 * n + 1\n",
    "        sequence.append(n)\n",
    "    return sequence\n",
    "\n",
    "    start_number = int(input(\"Enter a starting number (besides 1): \"))\n",
    "    if start_number == 1:\n",
    "        print(\"Please enter a number other than 1.\")\n",
    "    elif start_number == ValueError:\n",
    "        print(\"Invalid input. Please enter a valid integer.\")\n",
    "    else:\n",
    "        result_sequence = collatz_conjecture(start_number)\n",
    "        print(\"Collatz Conjecture Sequence:\", result_sequence)"
   ]
  },
  {
   "cell_type": "markdown",
   "metadata": {},
   "source": [
    "2. Create an algorithm that generates terms to the Fibonacci Sequence which outputs a specific number of terms defined in your code. The sequence starts off like 1, 1, 2, 3, 5, … each following term being the sum of the previous two.\n",
    "\n",
    "Ideas for above 90%:\n",
    "\n",
    "- Add user input\n",
    "- Display error message when an invalid input is specified\n",
    "- Find a way for the program to only specify a specific term in the sequence"
   ]
  },
  {
   "cell_type": "code",
   "execution_count": null,
   "metadata": {},
   "outputs": [],
   "source": [
    "def generate_fibonacci_sequence(n):\n",
    "    if n <= 0:\n",
    "        return []\n",
    "    elif n == 1:\n",
    "        return [1]\n",
    "    elif n == 2:\n",
    "        return [1, 1]\n",
    "    else:\n",
    "        sequence = [1, 1]\n",
    "        for _ in range(2, n):\n",
    "            next_term = sequence[-1] + sequence[-2]\n",
    "            sequence.append(next_term)\n",
    "        return sequence\n",
    "\n",
    "    n_terms = int(input(\"Enter the number of terms you want to generate: \"))\n",
    "    if n_terms <= 0:\n",
    "        print(\"Please enter a positive integer greater than zero.\")\n",
    "    else:\n",
    "        fibonacci_sequence = generate_fibonacci_sequence(n_terms)\n",
    "        print(\"Fibonacci Sequence:\", fibonacci_sequence)\n",
    "\n",
    "    term_number = int(input(\"Enter the term number you want to find (1-based index): \"))\n",
    "    if term_number <= 0:\n",
    "        print(\"Please enter a positive integer greater than zero for the term number.\")\n",
    "    elif term_number <= len(fibonacci_sequence):\n",
    "        print(f\"Term {term_number} in the Fibonacci Sequence is {fibonacci_sequence[term_number - 1]}.\")\n",
    "    elif term_number == ValueError:\n",
    "        print(\"Invalid input. Please enter a valid integer.\")\n",
    "    else:\n",
    "        print(\"The Fibonacci sequence does not have enough terms to find the specified term.\")"
   ]
  },
  {
   "cell_type": "markdown",
   "metadata": {},
   "source": [
    "3. Make a statistics calculator that calculates the mean, median, and mode of a specific series. Do this using iteration and without the use of imported modules (like the statistics one) that allows you to call pre defined functions like mean, median, and mode. Each of these calculations follows an algorithm. \n",
    "\n",
    "Ideas for above 90%:\n",
    "\n",
    "- Randomly generate a list of numbers (you can define it as a list of 5) to apply the calculator to.\n",
    "- If you can, generate a random number of elements in the data set as well (keep it between 5-10 elements). "
   ]
  },
  {
   "cell_type": "code",
   "execution_count": null,
   "metadata": {},
   "outputs": [],
   "source": [
    "import random\n",
    "\n",
    "def mean(numbers):\n",
    "    if len(numbers) == 0:\n",
    "        return None\n",
    "    return sum(numbers) / len(numbers)\n",
    "\n",
    "def median(numbers):\n",
    "    sorted_numbers = sorted(numbers)\n",
    "    n = len(sorted_numbers)\n",
    "    if n % 2 == 1:\n",
    "        return sorted_numbers[n // 2]\n",
    "    else:\n",
    "        mid1 = sorted_numbers[(n // 2) - 1]\n",
    "        mid2 = sorted_numbers[n // 2]\n",
    "        return (mid1 + mid2) / 2\n",
    "\n",
    "def mode(numbers):\n",
    "    if len(numbers) == 0:\n",
    "        return None\n",
    "    counts = {}\n",
    "    for num in numbers:\n",
    "        if num in counts:\n",
    "            counts[num] += 1\n",
    "        else:\n",
    "            counts[num] = 1\n",
    "    mode = [k for k, v in counts.items() if v == max(counts.values())]\n",
    "    return mode\n",
    "\n",
    "# Generate a random list of numbers with a random number of elements between 5 and 10\n",
    "num_elements = random.randint(5, 10)\n",
    "random_numbers = [random.randint(1, 100) for _ in range(num_elements)]\n",
    "\n",
    "print(\"Random List of Numbers:\", random_numbers)\n",
    "print(\"Mean:\", mean(random_numbers))\n",
    "print(\"Median:\", median(random_numbers))\n",
    "print(\"Mode:\", mode(random_numbers))"
   ]
  }
 ],
 "metadata": {
  "language_info": {
   "name": "python"
  }
 },
 "nbformat": 4,
 "nbformat_minor": 2
}
