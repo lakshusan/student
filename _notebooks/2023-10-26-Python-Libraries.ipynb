{
 "cells": [
  {
   "cell_type": "markdown",
   "metadata": {},
   "source": [
    "---\n",
    "toc: true\n",
    "comments: true\n",
    "layout: post\n",
    "title: Student Lesson Python Libraries\n",
    "description: To teach the class how to use public Python libraries around the internet\n",
    "type: hacks\n",
    "courses: { csp: {week: 10} }\n",
    "---"
   ]
  },
  {
   "cell_type": "markdown",
   "metadata": {},
   "source": [
    "### What is a Library?\n",
    "Essentially a list of pre-written code that you can use to streamline and clean up your program.\n",
    "\n",
    "Libraries can help simplify complex programs\n",
    "\n",
    "APIS are specifications for how the procedures in a library behave, and how they can be used \n",
    "\n",
    "Documentations for an API/library is necessary in understanding the behaviors provided by the API/library and how to use them\n",
    "\n",
    "Libraries that we will go over: Requests, Pillow, Pandas, Numpy, Scikit-Learn, TensorFlow, matplotlib.\n"
   ]
  },
  {
   "cell_type": "markdown",
   "metadata": {},
   "source": [
    "### Required Installations\n",
    "Please run the following commands in your vscode terminal in order to continue the lesson\n",
    "- pip install numpy\n",
    "- pip install matplotlib\n",
    "- pip install scikit-learn\n",
    "- pip install pillow\n",
    "- pip install pandas\n",
    "- pip install tensorflow\n",
    "- pip install requests"
   ]
  },
  {
   "cell_type": "markdown",
   "metadata": {},
   "source": [
    "### Images using requests and pillow libraries\n",
    "'Requests' is focused on handling HTTP requests and web data while 'Pillow' is designed for data manipulation and analysis\n",
    "It's common to see them used together in data-related assignments where data is fetched by HTTP requests using Requests and then processed and analyzed with Pandas.\n",
    "\n",
    "Here's an example:"
   ]
  },
  {
   "cell_type": "code",
   "execution_count": null,
   "metadata": {},
   "outputs": [],
   "source": [
    "import requests\n",
    "from PIL import Image\n",
    "from io import BytesIO\n",
    "\n",
    "# Step 1: Download an image using Requests\n",
    "image_url = \"https://example.com/path/to/your/image.jpg\"  # Replace with the actual URL of the image you want to download\n",
    "response = requests.get(image_url)\n",
    "\n",
    "if response.status_code == 200:\n",
    "    # Step 2: Process the downloaded image using Pillow\n",
    "    image_data = BytesIO(response.content)  # Create an in-memory binary stream from the response content\n",
    "    img = Image.open(image_data)  # Open the image using Pillow\n",
    "\n",
    "    # Perform image processing tasks here, like resizing or applying filters\n",
    "    img = img.resize((100, 100))  # Resize the image and replace x,y with desired amounts\n",
    "\n",
    "    # Step 3: Save the processed image using Pillow\n",
    "    img.save(\"processed_image.jpg\")  # Save the processed image to a file\n",
    "\n",
    "    print(\"Image downloaded, processed, and saved.\")\n",
    "else:\n",
    "    print(f\"Failed to download image. Status code: {response.status_code}\")\n"
   ]
  },
  {
   "cell_type": "markdown",
   "metadata": {},
   "source": [
    "In this code, we use the Requests library to download an image from a URL and then if the download is successful the HTTP status code 200 will pop up, and from there we create an in-memory binary stream (BytesIO) from the response content. We then use the Pillow library to open the image, make any necessary changes, and save the processed image to a file.\n",
    "\n",
    "Here's a step by step tutorial on how we wrote this code: \n",
    "1)We started by importing the necessary libraries, which were Requests, Pillow, and io.\n",
    "\n",
    "2)Download the Image\n",
    "\n",
    "3)Use the Requests library to send an HTTP GET request to the URL to download the image.\n",
    "Check the response status code to make sure the download goes through(status code 200).\n",
    "\n",
    "4)If the download is successful, create an in-memory binary stream (BytesIO) from the response content.\n",
    "Process the Image:\n",
    "\n",
    "5)Utilize the Pillow library to open the image from the binary stream.\n",
    "Change photo to desired preference(ie: size)\n",
    "Save the Processed Image:\n",
    "\n",
    "6)Save the processed image to a file using Pillow. Choose a filename and file format for the saved image.\n",
    "\n",
    "\n"
   ]
  },
  {
   "cell_type": "markdown",
   "metadata": {},
   "source": [
    "### Hack 1"
   ]
  },
  {
   "cell_type": "markdown",
   "metadata": {},
   "source": [
    "Write a Python code that accomplishes the following tasks:\n",
    "\n",
    "Downloads an image from a specified URL using the Requests library.\n",
    "Processes the downloaded image (like resizing) using the Pillow library.\n",
    "Save the processed image to a file.\n"
   ]
  },
  {
   "cell_type": "code",
   "execution_count": 4,
   "metadata": {},
   "outputs": [
    {
     "name": "stdout",
     "output_type": "stream",
     "text": [
      "Image downloaded, processed, and saved.\n"
     ]
    }
   ],
   "source": [
    "#Code here\n",
    "import requests\n",
    "from PIL import Image\n",
    "from io import BytesIO\n",
    "\n",
    "# Step 1: Download an image using Requests\n",
    "image_url = \"https://images.pexels.com/photos/1089438/pexels-photo-1089438.jpeg?auto=compress&cs=tinysrgb&dpr=1&w=500\"  # Replace with the actual URL of the image you want to download\n",
    "response = requests.get(image_url)\n",
    "\n",
    "if response.status_code == 200:\n",
    "    # Step 2: Process the downloaded image using Pillow\n",
    "    image_data = BytesIO(response.content)  # Create an in-memory binary stream from the response content\n",
    "    img = Image.open(image_data)  # Open the image using Pillow\n",
    "\n",
    "    # Perform image processing tasks here, like resizing or applying filters\n",
    "    img = img.resize((100, 100))  # Resize the image and replace x,y with desired amounts\n",
    "\n",
    "    # Step 3: Save the processed image using Pillow\n",
    "    img.save(\"processed_image.jpg\")  # Save the processed image to a file\n",
    "\n",
    "    print(\"Image downloaded, processed, and saved.\")\n",
    "else:\n",
    "    print(f\"Failed to download image. Status code: {response.status_code}\")\n"
   ]
  },
  {
   "cell_type": "markdown",
   "metadata": {},
   "source": [
    "### Math Operations With Python Libraries\n",
    "Numpy(Numerical Python) is used for numerical and scientific computing. It provides tools for handling large sets of numbers, such as data tables and arrays. Numpy makes it easier and more efficient to do mathematical tasks. \n",
    "\n",
    "The Matplotlib library lets you create a visual representation of your data (graphs, charts, and etc.)"
   ]
  },
  {
   "cell_type": "markdown",
   "metadata": {},
   "source": [
    "### Example Sine Graph\n",
    "Uses numpy and matplotlib libaries"
   ]
  },
  {
   "cell_type": "code",
   "execution_count": 5,
   "metadata": {},
   "outputs": [
    {
     "data": {
      "image/png": "[encoded data removed]",
      "text/plain": [
       "<Figure size 432x288 with 1 Axes>"
      ]
     },
     "metadata": {
      "needs_background": "light"
     },
     "output_type": "display_data"
    }
   ],
   "source": [
    "import numpy as np\n",
    "import matplotlib.pyplot as plt\n",
    "\n",
    "# Generate sample data with NumPy\n",
    "x = np.linspace(0, 2 * np.pi, 100) \n",
    "# Create an array of values from 0 to 2*pi\n",
    "# 100 is included to have 100 points distributed between 0 and 2π to make graph smoother\n",
    "y = np.sin(x)\n",
    "# Compute the sine of each value\n",
    "\n",
    "# Create a simple line plot using Matplotlib\n",
    "plt.plot(x, y, label='Sine Function', color='blue', linestyle='-')  # Create the plot\n",
    "plt.title('Sine Function')  # Set the title\n",
    "plt.xlabel('x')  # Label for the x-axis\n",
    "plt.ylabel('sin(x)')  # Label for the y-axis\n",
    "plt.grid(True)  # Display a grid\n",
    "plt.legend()  # Show the legend\n",
    "plt.show()  # Display the plot\n"
   ]
  },
  {
   "cell_type": "markdown",
   "metadata": {},
   "source": [
    "### Hack 2\n",
    "Using the data from the numpy library, create a visual graph using different matplotlib functions."
   ]
  },
  {
   "cell_type": "code",
   "execution_count": 12,
   "metadata": {},
   "outputs": [
    {
     "data": {
      "image/png": "[encoded data removed]",
      "text/plain": [
       "<Figure size 432x288 with 1 Axes>"
      ]
     },
     "metadata": {
      "needs_background": "light"
     },
     "output_type": "display_data"
    }
   ],
   "source": [
    "import numpy as np\n",
    "import matplotlib.pyplot as plt\n",
    "\n",
    "# Generate data for two lines\n",
    "x = np.linspace(0, 10, 50)  # Create an array of values from 0 to 10\n",
    "y = 2 * x + 1  # Set of data poits\n",
    "\n",
    "# Create and display a plot using Matplotlib\n",
    "\n",
    "# your code here\n",
    "plt.plot(x, y, label='Linear Function', color='blue', linestyle='-')  # Create the plot\n",
    "plt.title('Linear Function')  # Set the title\n",
    "plt.xlabel('x')  # Label for the x-axis\n",
    "plt.ylabel('2x + 1')  # Label for the y-axis\n",
    "plt.grid(True)  # Display a grid\n",
    "plt.legend()  # Show the legend\n",
    "plt.show()  # Display the plot"
   ]
  },
  {
   "cell_type": "markdown",
   "metadata": {},
   "source": [
    "Tensor Flow is used in deep learning and neural networks, while scikit-learn is used for typical machine learning tasks. When used together, they can tackle machine learning projects. In the code below, Tensor Flow is used for model creation and training. Scikit-learn is used for data-processing and model evaluation."
   ]
  },
  {
   "cell_type": "markdown",
   "metadata": {},
   "source": [
    "## Pip install tensorflow scikit-learn"
   ]
  },
  {
   "cell_type": "code",
   "execution_count": 14,
   "metadata": {},
   "outputs": [
    {
     "name": "stdout",
     "output_type": "stream",
     "text": [
      "Epoch 1/100\n",
      "3/3 - 0s - loss: 7.1433 - 325ms/epoch - 108ms/step\n",
      "Epoch 2/100\n",
      "3/3 - 0s - loss: 7.1215 - 9ms/epoch - 3ms/step\n",
      "Epoch 3/100\n",
      "3/3 - 0s - loss: 7.0982 - 11ms/epoch - 4ms/step\n",
      "Epoch 4/100\n",
      "3/3 - 0s - loss: 7.0763 - 11ms/epoch - 4ms/step\n",
      "Epoch 5/100\n",
      "3/3 - 0s - loss: 7.0542 - 14ms/epoch - 5ms/step\n",
      "Epoch 6/100\n",
      "3/3 - 0s - loss: 7.0323 - 14ms/epoch - 5ms/step\n",
      "Epoch 7/100\n",
      "3/3 - 0s - loss: 7.0089 - 14ms/epoch - 5ms/step\n",
      "Epoch 8/100\n",
      "3/3 - 0s - loss: 6.9876 - 18ms/epoch - 6ms/step\n",
      "Epoch 9/100\n",
      "3/3 - 0s - loss: 6.9659 - 14ms/epoch - 5ms/step\n",
      "Epoch 10/100\n",
      "3/3 - 0s - loss: 6.9426 - 14ms/epoch - 5ms/step\n",
      "Epoch 11/100\n",
      "3/3 - 0s - loss: 6.9212 - 15ms/epoch - 5ms/step\n",
      "Epoch 12/100\n",
      "3/3 - 0s - loss: 6.9002 - 13ms/epoch - 4ms/step\n",
      "Epoch 13/100\n",
      "3/3 - 0s - loss: 6.8783 - 12ms/epoch - 4ms/step\n",
      "Epoch 14/100\n",
      "3/3 - 0s - loss: 6.8574 - 14ms/epoch - 5ms/step\n",
      "Epoch 15/100\n",
      "3/3 - 0s - loss: 6.8347 - 14ms/epoch - 5ms/step\n",
      "Epoch 16/100\n",
      "3/3 - 0s - loss: 6.8143 - 14ms/epoch - 5ms/step\n",
      "Epoch 17/100\n",
      "3/3 - 0s - loss: 6.7922 - 17ms/epoch - 6ms/step\n",
      "Epoch 18/100\n",
      "3/3 - 0s - loss: 6.7711 - 15ms/epoch - 5ms/step\n",
      "Epoch 19/100\n",
      "3/3 - 0s - loss: 6.7495 - 13ms/epoch - 4ms/step\n",
      "Epoch 20/100\n",
      "3/3 - 0s - loss: 6.7278 - 15ms/epoch - 5ms/step\n",
      "Epoch 21/100\n",
      "3/3 - 0s - loss: 6.7071 - 13ms/epoch - 4ms/step\n",
      "Epoch 22/100\n",
      "3/3 - 0s - loss: 6.6866 - 10ms/epoch - 3ms/step\n",
      "Epoch 23/100\n",
      "3/3 - 0s - loss: 6.6647 - 16ms/epoch - 5ms/step\n",
      "Epoch 24/100\n",
      "3/3 - 0s - loss: 6.6432 - 10ms/epoch - 3ms/step\n",
      "Epoch 25/100\n",
      "3/3 - 0s - loss: 6.6217 - 17ms/epoch - 6ms/step\n",
      "Epoch 26/100\n",
      "3/3 - 0s - loss: 6.6008 - 16ms/epoch - 5ms/step\n",
      "Epoch 27/100\n",
      "3/3 - 0s - loss: 6.5782 - 16ms/epoch - 5ms/step\n",
      "Epoch 28/100\n",
      "3/3 - 0s - loss: 6.5583 - 14ms/epoch - 5ms/step\n",
      "Epoch 29/100\n",
      "3/3 - 0s - loss: 6.5366 - 14ms/epoch - 5ms/step\n",
      "Epoch 30/100\n",
      "3/3 - 0s - loss: 6.5161 - 15ms/epoch - 5ms/step\n",
      "Epoch 31/100\n",
      "3/3 - 0s - loss: 6.4956 - 12ms/epoch - 4ms/step\n",
      "Epoch 32/100\n",
      "3/3 - 0s - loss: 6.4740 - 15ms/epoch - 5ms/step\n",
      "Epoch 33/100\n",
      "3/3 - 0s - loss: 6.4529 - 13ms/epoch - 4ms/step\n",
      "Epoch 34/100\n",
      "3/3 - 0s - loss: 6.4320 - 13ms/epoch - 4ms/step\n",
      "Epoch 35/100\n",
      "3/3 - 0s - loss: 6.4128 - 11ms/epoch - 4ms/step\n",
      "Epoch 36/100\n",
      "3/3 - 0s - loss: 6.3924 - 12ms/epoch - 4ms/step\n",
      "Epoch 37/100\n",
      "3/3 - 0s - loss: 6.3720 - 16ms/epoch - 5ms/step\n",
      "Epoch 38/100\n",
      "3/3 - 0s - loss: 6.3521 - 15ms/epoch - 5ms/step\n",
      "Epoch 39/100\n",
      "3/3 - 0s - loss: 6.3323 - 16ms/epoch - 5ms/step\n",
      "Epoch 40/100\n",
      "3/3 - 0s - loss: 6.3119 - 16ms/epoch - 5ms/step\n",
      "Epoch 41/100\n",
      "3/3 - 0s - loss: 6.2917 - 16ms/epoch - 5ms/step\n",
      "Epoch 42/100\n",
      "3/3 - 0s - loss: 6.2730 - 14ms/epoch - 5ms/step\n",
      "Epoch 43/100\n",
      "3/3 - 0s - loss: 6.2528 - 16ms/epoch - 5ms/step\n",
      "Epoch 44/100\n",
      "3/3 - 0s - loss: 6.2323 - 15ms/epoch - 5ms/step\n",
      "Epoch 45/100\n",
      "3/3 - 0s - loss: 6.2128 - 15ms/epoch - 5ms/step\n",
      "Epoch 46/100\n",
      "3/3 - 0s - loss: 6.1940 - 15ms/epoch - 5ms/step\n",
      "Epoch 47/100\n",
      "3/3 - 0s - loss: 6.1738 - 14ms/epoch - 5ms/step\n",
      "Epoch 48/100\n",
      "3/3 - 0s - loss: 6.1534 - 16ms/epoch - 5ms/step\n",
      "Epoch 49/100\n",
      "3/3 - 0s - loss: 6.1334 - 15ms/epoch - 5ms/step\n",
      "Epoch 50/100\n",
      "3/3 - 0s - loss: 6.1145 - 15ms/epoch - 5ms/step\n",
      "Epoch 51/100\n",
      "3/3 - 0s - loss: 6.0950 - 13ms/epoch - 4ms/step\n",
      "Epoch 52/100\n",
      "3/3 - 0s - loss: 6.0750 - 13ms/epoch - 4ms/step\n",
      "Epoch 53/100\n",
      "3/3 - 0s - loss: 6.0553 - 16ms/epoch - 5ms/step\n",
      "Epoch 54/100\n",
      "3/3 - 0s - loss: 6.0355 - 20ms/epoch - 7ms/step\n",
      "Epoch 55/100\n",
      "3/3 - 0s - loss: 6.0146 - 15ms/epoch - 5ms/step\n",
      "Epoch 56/100\n",
      "3/3 - 0s - loss: 5.9953 - 12ms/epoch - 4ms/step\n",
      "Epoch 57/100\n",
      "3/3 - 0s - loss: 5.9762 - 16ms/epoch - 5ms/step\n",
      "Epoch 58/100\n",
      "3/3 - 0s - loss: 5.9559 - 14ms/epoch - 5ms/step\n",
      "Epoch 59/100\n",
      "3/3 - 0s - loss: 5.9354 - 15ms/epoch - 5ms/step\n",
      "Epoch 60/100\n",
      "3/3 - 0s - loss: 5.9160 - 13ms/epoch - 4ms/step\n",
      "Epoch 61/100\n",
      "3/3 - 0s - loss: 5.8953 - 12ms/epoch - 4ms/step\n",
      "Epoch 62/100\n",
      "3/3 - 0s - loss: 5.8766 - 10ms/epoch - 3ms/step\n",
      "Epoch 63/100\n",
      "3/3 - 0s - loss: 5.8561 - 15ms/epoch - 5ms/step\n",
      "Epoch 64/100\n",
      "3/3 - 0s - loss: 5.8372 - 15ms/epoch - 5ms/step\n",
      "Epoch 65/100\n",
      "3/3 - 0s - loss: 5.8189 - 16ms/epoch - 5ms/step\n",
      "Epoch 66/100\n",
      "3/3 - 0s - loss: 5.7991 - 13ms/epoch - 4ms/step\n",
      "Epoch 67/100\n",
      "3/3 - 0s - loss: 5.7811 - 8ms/epoch - 3ms/step\n",
      "Epoch 68/100\n",
      "3/3 - 0s - loss: 5.7619 - 11ms/epoch - 4ms/step\n",
      "Epoch 69/100\n",
      "3/3 - 0s - loss: 5.7430 - 15ms/epoch - 5ms/step\n",
      "Epoch 70/100\n",
      "3/3 - 0s - loss: 5.7240 - 10ms/epoch - 3ms/step\n",
      "Epoch 71/100\n",
      "3/3 - 0s - loss: 5.7072 - 11ms/epoch - 4ms/step\n",
      "Epoch 72/100\n",
      "3/3 - 0s - loss: 5.6875 - 13ms/epoch - 4ms/step\n",
      "Epoch 73/100\n",
      "3/3 - 0s - loss: 5.6687 - 13ms/epoch - 4ms/step\n",
      "Epoch 74/100\n",
      "3/3 - 0s - loss: 5.6510 - 12ms/epoch - 4ms/step\n",
      "Epoch 75/100\n",
      "3/3 - 0s - loss: 5.6328 - 11ms/epoch - 4ms/step\n",
      "Epoch 76/100\n",
      "3/3 - 0s - loss: 5.6146 - 15ms/epoch - 5ms/step\n",
      "Epoch 77/100\n",
      "3/3 - 0s - loss: 5.5964 - 16ms/epoch - 5ms/step\n",
      "Epoch 78/100\n",
      "3/3 - 0s - loss: 5.5790 - 15ms/epoch - 5ms/step\n",
      "Epoch 79/100\n",
      "3/3 - 0s - loss: 5.5616 - 15ms/epoch - 5ms/step\n",
      "Epoch 80/100\n",
      "3/3 - 0s - loss: 5.5415 - 16ms/epoch - 5ms/step\n",
      "Epoch 81/100\n",
      "3/3 - 0s - loss: 5.5240 - 16ms/epoch - 5ms/step\n",
      "Epoch 82/100\n",
      "3/3 - 0s - loss: 5.5060 - 14ms/epoch - 5ms/step\n",
      "Epoch 83/100\n",
      "3/3 - 0s - loss: 5.4888 - 16ms/epoch - 5ms/step\n",
      "Epoch 84/100\n",
      "3/3 - 0s - loss: 5.4696 - 15ms/epoch - 5ms/step\n",
      "Epoch 85/100\n",
      "3/3 - 0s - loss: 5.4516 - 22ms/epoch - 7ms/step\n",
      "Epoch 86/100\n",
      "3/3 - 0s - loss: 5.4331 - 15ms/epoch - 5ms/step\n",
      "Epoch 87/100\n",
      "3/3 - 0s - loss: 5.4148 - 11ms/epoch - 4ms/step\n",
      "Epoch 88/100\n",
      "3/3 - 0s - loss: 5.3964 - 14ms/epoch - 5ms/step\n",
      "Epoch 89/100\n",
      "3/3 - 0s - loss: 5.3785 - 13ms/epoch - 4ms/step\n",
      "Epoch 90/100\n",
      "3/3 - 0s - loss: 5.3595 - 14ms/epoch - 5ms/step\n",
      "Epoch 91/100\n",
      "3/3 - 0s - loss: 5.3426 - 12ms/epoch - 4ms/step\n",
      "Epoch 92/100\n",
      "3/3 - 0s - loss: 5.3243 - 15ms/epoch - 5ms/step\n",
      "Epoch 93/100\n",
      "3/3 - 0s - loss: 5.3059 - 15ms/epoch - 5ms/step\n",
      "Epoch 94/100\n",
      "3/3 - 0s - loss: 5.2875 - 21ms/epoch - 7ms/step\n",
      "Epoch 95/100\n",
      "3/3 - 0s - loss: 5.2696 - 16ms/epoch - 5ms/step\n",
      "Epoch 96/100\n",
      "3/3 - 0s - loss: 5.2527 - 16ms/epoch - 5ms/step\n",
      "Epoch 97/100\n",
      "3/3 - 0s - loss: 5.2343 - 16ms/epoch - 5ms/step\n",
      "Epoch 98/100\n",
      "3/3 - 0s - loss: 5.2172 - 15ms/epoch - 5ms/step\n",
      "Epoch 99/100\n",
      "3/3 - 0s - loss: 5.1987 - 16ms/epoch - 5ms/step\n",
      "Epoch 100/100\n",
      "3/3 - 0s - loss: 5.1826 - 20ms/epoch - 7ms/step\n",
      "1/1 [==============================] - 0s 59ms/step\n",
      "Mean Squared Error: 5.5564\n"
     ]
    }
   ],
   "source": [
    "import numpy as np\n",
    "import tensorflow as tf\n",
    "from sklearn.model_selection import train_test_split\n",
    "from sklearn.metrics import mean_squared_error\n",
    "from sklearn.preprocessing import StandardScaler\n",
    "from tensorflow import keras\n",
    "from tensorflow import layers\n",
    "# Generate synthetic data\n",
    "np.random.seed(0)\n",
    "X = np.random.rand(100, 1)  # Feature\n",
    "y = 2 * X + 1 + 0.1 * np.random.randn(100, 1)  # Target variable with noise\n",
    "# Split the data into training and testing sets\n",
    "X_train, X_test, y_train, y_test = train_test_split(X, y, test_size=0.2, random_state=42)\n",
    "# Standardize the features\n",
    "scaler = StandardScaler()\n",
    "X_train = scaler.fit_transform(X_train)\n",
    "X_test = scaler.transform(X_test)\n",
    "# Create a simple linear regression model using TensorFlow and Keras\n",
    "model = keras.Sequential([\n",
    "    layers.Input(shape=(1,)),\n",
    "    layers.Dense(1)\n",
    "])\n",
    "# Compile the model\n",
    "model.compile(optimizer='adam', loss='mean_squared_error')\n",
    "# Train the model\n",
    "model.fit(X_train, y_train, epochs=100, batch_size=32, verbose=2)\n",
    "# Make predictions on the test set\n",
    "y_pred = model.predict(X_test)\n",
    "# Calculate the Mean Squared Error on the test set\n",
    "mse = mean_squared_error(y_test, y_pred)\n",
    "print(f\"Mean Squared Error: {mse:.4f}\")"
   ]
  },
  {
   "cell_type": "markdown",
   "metadata": {},
   "source": [
    "A decrease in loss and time metrics (ms/epoch and ms/step) shows the efficiency increases as the training epochs increases"
   ]
  },
  {
   "cell_type": "markdown",
   "metadata": {},
   "source": [
    "## Hack\n",
    "fill in the missing code to match the custom data set"
   ]
  },
  {
   "cell_type": "code",
   "execution_count": null,
   "metadata": {},
   "outputs": [],
   "source": [
    "import numpy as np\n",
    "import tensorflow as tf\n",
    "from sklearn.model_selection import train_test_split\n",
    "from sklearn.metrics import mean_squared_error\n",
    "from sklearn.preprocessing import StandardScaler\n",
    "from tensorflow import keras\n",
    "from tensorflow.keras import layers\n",
    "# Generate a custom dataset (replace this with your data loading code)\n",
    "# Synthetic data: House prices based on number of bedrooms and square footage\n",
    "np.random.seed(0)\n",
    "num_samples = 100\n",
    "bedrooms = np.random.randint(1, 5, num_samples)\n",
    "square_footage = np.random.randint(1000, 2500, num_samples)\n",
    "house_prices = 100000 + 50000 * bedrooms + 100 * square_footage + 10000 * np.random.randn(num_samples)\n",
    "# Combine features (bedrooms and square footage) into one array\n",
    "X = np.column_stack((bedrooms, square_footage))\n",
    "y = house_prices.reshape(-1, 1)\n",
    "# Split the data into training and testing sets\n",
    "\n",
    "# Standardize the features\n",
    "\n",
    "# Create a regression model using TensorFlow and Keras\n",
    "\n",
    "    # Input shape adjusted to the number of features\n",
    "     # Output layer for regression\n",
    "\n",
    "# Compile the model for regression\n",
    "  # Using MSE as the loss function\n",
    "# Train the model\n",
    "\n",
    "# Make predictions on the test set\n",
    "\n",
    "# Calculate the Mean Squared Error on the test set\n"
   ]
  },
  {
   "cell_type": "markdown",
   "metadata": {},
   "source": [
    "## HOMEWORK 1\n",
    "\n",
    "Create a GPA calculator using Pandas and Matplot libraries and make:\n",
    "1) A dataframe\n",
    "2) A specified dictionary\n",
    "3) and a print function that outputs the final GPA\n",
    "\n",
    "Extra points can be earned with creativity."
   ]
  },
  {
   "cell_type": "code",
   "execution_count": null,
   "metadata": {},
   "outputs": [],
   "source": [
    "%matplotlib inline\n",
    "import pandas as pd\n",
    "import matplotlib.pyplot as plt\n",
    "\n",
    "# sample data for classes\n",
    "data = {'Subject': ['Math', 'Biology', 'History', 'English', 'CompSci'],\n",
    "        'Credits': [5, 5, 5, 5, 5],\n",
    "        'Grade': ['A', 'A', 'B', 'A', 'B']}\n",
    "df = pd.DataFrame(data)\n",
    "\n",
    "# grade point dictionary\n",
    "grade_points = {'A': 4.0, 'B': 3.0, 'C': 2.0, 'D': 1.0, 'F': 0.0,}\n",
    "\n",
    "# gpa calculation\n",
    "def calculate_gpa(SampleData):\n",
    "    total_credits = 0\n",
    "    total_grade_points = 0\n",
    "    for index, row in SampleData.iterrows():\n",
    "        credit = row['Credits']\n",
    "        grade = row['Grade']\n",
    "        if grade in grade_points:\n",
    "            grade_point = grade_points[grade]\n",
    "            total_credits += credit\n",
    "            total_grade_points += credit * grade_point\n",
    "    gpa = total_grade_points / total_credits\n",
    "    return gpa\n",
    "\n",
    "# final gpa output\n",
    "final_gpa = calculate_gpa(df)\n",
    "print(f'Final GPA: {final_gpa:.2f}')\n",
    "\n",
    "# gpa bar chart\n",
    "plt.bar(df['Subject'], df['Credits'], color='lightblue', label='Credits')\n",
    "plt.ylabel('Credits')\n",
    "plt.twinx()\n",
    "plt.plot(df['Subject'], [grade_points[grade] for grade in df['Grade']], marker='o', color='orange', label='Grade Points')\n",
    "plt.ylabel('Grade Points')\n",
    "plt.title('GPA by Subject')\n",
    "plt.legend(loc='upper left')\n",
    "plt.show()"
   ]
  },
  {
   "cell_type": "markdown",
   "metadata": {},
   "source": [
    "## HOMEWORK 2\n",
    "\n",
    "Import and use the \"random\" library to generate 50 different points from the range 0-100, then display the randomized data using a scatter plot.\n",
    "\n",
    "Extra points can be earned with creativity."
   ]
  },
  {
   "cell_type": "code",
   "execution_count": null,
   "metadata": {},
   "outputs": [],
   "source": [
    "# your code here"
   ]
  }
 ],
 "metadata": {
  "kernelspec": {
   "display_name": "Python 3",
   "language": "python",
   "name": "python3"
  },
  "language_info": {
   "codemirror_mode": {
    "name": "ipython",
    "version": 3
   },
   "file_extension": ".py",
   "mimetype": "text/x-python",
   "name": "python",
   "nbconvert_exporter": "python",
   "pygments_lexer": "ipython3",
   "version": "3.10.12"
  }
 },
 "nbformat": 4,
 "nbformat_minor": 2
}
