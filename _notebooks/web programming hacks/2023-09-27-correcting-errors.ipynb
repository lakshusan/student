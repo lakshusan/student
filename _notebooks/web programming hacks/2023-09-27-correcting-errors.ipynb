{
 "cells": [
  {
   "cell_type": "code",
   "execution_count": 34,
   "metadata": {},
   "outputs": [
    {
     "data": {
      "application/javascript": "\n// Segment 1\n// Original Code\n\nvar alphabet = \"abcdefghijklmnopqrstuvwxyz\";\nvar alphabetList = [];\n\nfor (var i = 0; i < 10; i++) {\n\talphabetList.push(i);\n}\n\nconsole.log(alphabetList);\n\n// Altered Code and What I Changed\n\nvar alphabet = \"abcdefghijklmnopqrstuvwxyz\";\nvar alphabetList = [];\n\nfor (var i = 0; i < 26; i++) {\n    alphabetList.push(alphabet[i]);\n}\n\nconsole.log(alphabetList);\n",
      "text/plain": [
       "<IPython.core.display.Javascript object>"
      ]
     },
     "metadata": {},
     "output_type": "display_data"
    }
   ],
   "source": [
    "%%js\n",
    "\n",
    "// Segment 1\n",
    "\n",
    "// Original Code\n",
    "\n",
    "var alphabet = \"abcdefghijklmnopqrstuvwxyz\";\n",
    "var alphabetList = [];\n",
    "\n",
    "for (var i = 0; i < 10; i++) {\n",
    "\talphabetList.push(i);\n",
    "}\n",
    "\n",
    "console.log(alphabetList);"
   ]
  },
  {
   "cell_type": "code",
   "execution_count": null,
   "metadata": {},
   "outputs": [],
   "source": [
    "%%js\n",
    "\n",
    "// Altered Code and What I Changed (Segment 1)\n",
    "\n",
    "var alphabet = \"abcdefghijklmnopqrstuvwxyz\";\n",
    "var alphabetList = [];\n",
    "\n",
    "for (var i = 0; i < 26; i++) {\n",
    "    alphabetList.push(alphabet[i]);\n",
    "}\n",
    "\n",
    "console.log(alphabetList);\n",
    "\n",
    "// I changed the 'i<10' to 'i<26' to match the amount of letters in the alphabet.\n",
    "// Then I changed the 'i' in the alphabetList.push(i) to alphabetList.push(alphabet[i]) to access the individual characters to add to the list. "
   ]
  },
  {
   "cell_type": "code",
   "execution_count": 40,
   "metadata": {},
   "outputs": [
    {
     "data": {
      "application/javascript": "\n// Segment 2\n\n// Original Code\n'''\n\nvar alphabet = \"abcdefghijklmnopqrstuvwxyz\";\nvar alphabetList = [];\n\nfor (var i = 0; i < 26; i++) {\n    alphabetList.push(alphabet[i]);\n}\n\nconsole.log(alphabetList);\n\nlet letterNumber = 5\n\nfor (var i = 0; i < alphabetList; i++) {\n\tif (i === letterNumber) {\n\t\tconsole.log(letterNumber + \" is letter number 1 in the alphabet\")\n\t}\n}\n'''\n// Altered Code\n\nvar alphabet = \"abcdefghijklmnopqrstuvwxyz\";\nvar alphabetList = [];\n\nfor (var i = 0; i < 26; i++) {\n    var letterNumber = i + 1;  // Adding 1 to convert index to letter number\n    alphabetList.push(alphabet[i] + \" corresponds to letter number \" + letterNumber);\n}\n\nconsole.log(alphabetList);\n",
      "text/plain": [
       "<IPython.core.display.Javascript object>"
      ]
     },
     "metadata": {},
     "output_type": "display_data"
    }
   ],
   "source": [
    "%%js\n",
    "\n",
    "// Segment 2\n",
    "\n",
    "// Original Code\n",
    "```\n",
    "\n",
    "var alphabet = \"abcdefghijklmnopqrstuvwxyz\";\n",
    "var alphabetList = [];\n",
    "\n",
    "for (var i = 0; i < 26; i++) {\n",
    "    alphabetList.push(alphabet[i]);\n",
    "}\n",
    "\n",
    "console.log(alphabetList);\n",
    "\n",
    "let letterNumber = 5\n",
    "\n",
    "for (var i = 0; i < alphabetList; i++) {\n",
    "\tif (i === letterNumber) {\n",
    "\t\tconsole.log(letterNumber + \" is letter number 1 in the alphabet\")\n",
    "\t}\n",
    "}"
   ]
  },
  {
   "cell_type": "code",
   "execution_count": 44,
   "metadata": {},
   "outputs": [
    {
     "data": {
      "application/javascript": "\n// Altered Code and What I Changed (Segment 2)\n\nvar alphabet = \"abcdefghijklmnopqrstuvwxyz\";\nvar alphabetList = [];\n\nfor (var i = 0; i < 26; i++) {\n    var letterNumber = i + 1;  // Adding 1 to convert index to letter number\n    alphabetList.push(alphabet[i] + \" corresponds to letter number \" + letterNumber);\n}\n\nconsole.log(alphabetList);\n\n// First, I added a variable called letterNumber, which takes the letter number using zero-base counting and adds one.\n// To the line with the push, I used concatenate to add \"corresponds to letter number\", which is the wanted phrase.\n// Then , I used concatenate again to add the letterNumber variable to the push line.\n",
      "text/plain": [
       "<IPython.core.display.Javascript object>"
      ]
     },
     "metadata": {},
     "output_type": "display_data"
    }
   ],
   "source": [
    "%%js\n",
    "\n",
    "// Altered Code and What I Changed (Segment 2)\n",
    "\n",
    "var alphabet = \"abcdefghijklmnopqrstuvwxyz\";\n",
    "var alphabetList = [];\n",
    "\n",
    "for (var i = 0; i < 26; i++) {\n",
    "    var letterNumber = i + 1;  // Adding 1 to convert index to letter number\n",
    "    alphabetList.push(alphabet[i] + \" corresponds to letter number \" + letterNumber);\n",
    "}\n",
    "\n",
    "console.log(alphabetList);\n",
    "\n",
    "// First, I added a variable called letterNumber, which takes the letter number using zero-base counting and adds one.\n",
    "// To the line with the push, I used concatenate to add \"corresponds to letter number\", which is the wanted phrase.\n",
    "// Then , I used concatenate again to add the letterNumber variable to the push line."
   ]
  },
  {
   "cell_type": "code",
   "execution_count": 45,
   "metadata": {},
   "outputs": [
    {
     "data": {
      "application/javascript": "\n// Segment 3\n\n// Original Code\n\nlet odds = [];\nlet i = 1;\n\nwhile (i <= 10) {\n  odds.push(i);\n  i += 2;\n}\n\nconsole.log(odds);\n",
      "text/plain": [
       "<IPython.core.display.Javascript object>"
      ]
     },
     "metadata": {},
     "output_type": "display_data"
    }
   ],
   "source": [
    "%%js\n",
    "\n",
    "// Segment 3\n",
    "\n",
    "// Original Code\n",
    "\n",
    "let evens = [];\n",
    "let i = 0;\n",
    "\n",
    "while (i <= 10) {\n",
    "  evens.push(i);\n",
    "  i += 2;\n",
    "}\n",
    "\n",
    "console.log(evens);"
   ]
  },
  {
   "cell_type": "code",
   "execution_count": 46,
   "metadata": {},
   "outputs": [
    {
     "data": {
      "application/javascript": "\n// Altered Code and What I Changed (Segment 3)\n\nlet odds = [];\nlet i = 1;\n\nwhile (i <= 10) {\n  odds.push(i);\n  i += 2;\n}\n\nconsole.log(odds);\n\n// First, I changed all the 'even' labeled arrays to represent odds.\n// Then, I defined i as 1, the first odd number rather than 0.\n",
      "text/plain": [
       "<IPython.core.display.Javascript object>"
      ]
     },
     "metadata": {},
     "output_type": "display_data"
    }
   ],
   "source": [
    "%%js\n",
    "\n",
    "// Altered Code and What I Changed (Segment 3)\n",
    "\n",
    "let odds = [];\n",
    "let i = 1;\n",
    "\n",
    "while (i <= 10) {\n",
    "  odds.push(i);\n",
    "  i += 2;\n",
    "}\n",
    "\n",
    "console.log(odds);\n",
    "\n",
    "// First, I changed all the 'even' labeled arrays to represent odds.\n",
    "// Then, I defined i as 1, the first odd number rather than 0."
   ]
  }
 ],
 "metadata": {
  "kernelspec": {
   "display_name": "Python 3",
   "language": "python",
   "name": "python3"
  },
  "language_info": {
   "codemirror_mode": {
    "name": "ipython",
    "version": 3
   },
   "file_extension": ".py",
   "mimetype": "text/x-python",
   "name": "python",
   "nbconvert_exporter": "python",
   "pygments_lexer": "ipython3",
   "version": "3.10.12"
  },
  "orig_nbformat": 4
 },
 "nbformat": 4,
 "nbformat_minor": 2
}
