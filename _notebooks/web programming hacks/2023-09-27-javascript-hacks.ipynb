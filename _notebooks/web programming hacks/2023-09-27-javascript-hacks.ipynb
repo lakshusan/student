{
 "cells": [
  {
   "cell_type": "markdown",
   "metadata": {},
   "source": [
    "---\n",
    "layout: post\n",
    "title: JavaScript Hacks\n",
    "description: An introduction to key topics in Web Programming\n",
    "courses: { compsci: {week: 6} }\n",
    "type: ccc\n",
    "permalink: /basics/javascript\n",
    "comments: true\n",
    "---"
   ]
  },
  {
   "cell_type": "raw",
   "metadata": {},
   "source": [
    "{% include nav_basics.html %}"
   ]
  },
  {
   "cell_type": "code",
   "execution_count": 1,
   "metadata": {
    "vscode": {
     "languageId": "javascript"
    }
   },
   "outputs": [
    {
     "data": {
      "application/javascript": "\nconsole.log(\"If statements + Operators\")\nvar a = Math.floor(Math.random() * 101)\nvar b = Math.floor(Math.random() * 101)\nconsole.log(a)\nconsole.log(b)\n// Prints the randomly assigned values of a and b (between 0 and 100)\nif (a > b) {\n    console.log(\"a is more than b\");\n} else if (a == b) {\n    console.log(\"a is the same as b\");\n} else {\n    console.log(\"a is less than b\");\n}\n// Uses randomization, result changes based on variable value\n",
      "text/plain": [
       "<IPython.core.display.Javascript object>"
      ]
     },
     "metadata": {},
     "output_type": "display_data"
    }
   ],
   "source": [
    "%%js\n",
    "\n",
    "console.log(\"If statements + Operators\")\n",
    "var a = Math.floor(Math.random() * 101)\n",
    "var b = Math.floor(Math.random() * 101)\n",
    "console.log(a)\n",
    "console.log(b)\n",
    "// Prints the randomly assigned values of a and b (between 0 and 100)\n",
    "if (a > b) {\n",
    "    console.log(\"a is more than b\");\n",
    "} else if (a == b) {\n",
    "    console.log(\"a is the same as b\");\n",
    "} else {\n",
    "    console.log(\"a is less than b\");\n",
    "}\n",
    "// Uses randomization, result changes based on random variable value (between 0 and 100)"
   ]
  }
 ],
 "metadata": {
  "kernelspec": {
   "display_name": "Python 3 (ipykernel)",
   "language": "python",
   "name": "python3"
  },
  "language_info": {
   "codemirror_mode": {
    "name": "ipython",
    "version": 3
   },
   "file_extension": ".py",
   "mimetype": "text/x-python",
   "name": "python",
   "nbconvert_exporter": "python",
   "pygments_lexer": "ipython3",
   "version": "3.10.12"
  }
 },
 "nbformat": 4,
 "nbformat_minor": 2
}
