{
 "cells": [
  {
   "cell_type": "code",
   "execution_count": 1,
   "metadata": {
    "vscode": {
     "languageId": "javascript"
    }
   },
   "outputs": [
    {
     "data": {
      "application/javascript": "\nconsole.log(\"If statements + Operators\")\nvar a = Math.floor(Math.random() * 101)\nvar b = Math.floor(Math.random() * 101)\nconsole.log(a)\nconsole.log(b)\n// Prints the randomly assigned values of a and b (between 0 and 100)\nif (a > b) {\n    console.log(\"a is more than b\");\n} else if (a == b) {\n    console.log(\"a is the same as b\");\n} else {\n    console.log(\"a is less than b\");\n}\n// Uses randomization, result changes based on variable value\n",
      "text/plain": [
       "<IPython.core.display.Javascript object>"
      ]
     },
     "metadata": {},
     "output_type": "display_data"
    }
   ],
   "source": [
    "%%js\n",
    "\n",
    "console.log(\"If statements + Operators\")\n",
    "var a = Math.floor(Math.random() * 101)\n",
    "var b = Math.floor(Math.random() * 101)\n",
    "console.log(a)\n",
    "console.log(b)\n",
    "// Prints the randomly assigned values of a and b (between 0 and 100)\n",
    "if (a > b) {\n",
    "    console.log(\"a is more than b\");\n",
    "} else if (a == b) {\n",
    "    console.log(\"a is the same as b\");\n",
    "} else {\n",
    "    console.log(\"a is less than b\");\n",
    "}\n",
    "// Uses randomization, result changes based on variable value"
   ]
  }
 ],
 "metadata": {
  "kernelspec": {
   "display_name": "Python 3 (ipykernel)",
   "language": "python",
   "name": "python3"
  },
  "language_info": {
   "codemirror_mode": {
    "name": "ipython",
    "version": 3
   },
   "file_extension": ".py",
   "mimetype": "text/x-python",
   "name": "python",
   "nbconvert_exporter": "python",
   "pygments_lexer": "ipython3",
   "version": "3.10.12"
  }
 },
 "nbformat": 4,
 "nbformat_minor": 2
}
