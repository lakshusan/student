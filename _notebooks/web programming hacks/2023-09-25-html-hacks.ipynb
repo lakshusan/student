{
 "cells": [
  {
   "cell_type": "markdown",
   "metadata": {},
   "source": [
    "%%html\n",
    "\n",
    "<!-- Me (Lakshanya) and Avanthika -->\n",
    "<div>\n",
    "    <!-- Instruments -->\n",
    "    <p>Lakshanya - Western and Carnatic Flute</p>\n",
    "    <p>Avanthika - Guitar</p>\n",
    "</div>\n",
    "\n",
    "<!-- Eun and Bella -->\n",
    "<div>\n",
    "    <!-- Instruments -->\n",
    "    <p>Eun - Violin and Piano </p>\n",
    "    <p>Bella - Piano</p>\n",
    "</div>"
   ]
  },
  {
   "cell_type": "markdown",
   "metadata": {
    "vscode": {
     "languageId": "html"
    }
   },
   "source": [
    "%%html\n",
    "\n",
    "<h3>Hack 1</h3>\n",
    "\n",
    "<div>\n",
    "<p>para</p>\n",
    "\n",
    "<button onclick=\"window.location.href='https://nighthawkcoders.github.io/teacher/basics/html';\">button text</button>\n",
    "</div>"
   ]
  },
  {
   "cell_type": "markdown",
   "metadata": {
    "vscode": {
     "languageId": "html"
    }
   },
   "source": [
    "%%html\n",
    "\n",
    "<h3>Hack 2</h3>\n",
    "\n",
    "<div>\n",
    "<a href=\"https://nighthawkcoders.github.io/teacher/basics/html\";>link 1</a>\n",
    "</div>\n",
    "\n",
    "<div>\n",
    "<a href=\"https://nighthawkcoders.github.io/teacher/basics/dom\";>link 2</a>\n",
    "</div>\n",
    "<p>para</p>"
   ]
  }
 ],
 "metadata": {
  "kernelspec": {
   "display_name": "Python 3 (ipykernel)",
   "language": "python",
   "name": "python3"
  },
  "language_info": {
   "codemirror_mode": {
    "name": "ipython",
    "version": 3
   },
   "file_extension": ".py",
   "mimetype": "text/x-python",
   "name": "python",
   "nbconvert_exporter": "python",
   "pygments_lexer": "ipython3",
   "version": "3.10.12"
  }
 },
 "nbformat": 4,
 "nbformat_minor": 2
}
