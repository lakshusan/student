{
 "cells": [
  {
   "cell_type": "markdown",
   "metadata": {},
   "source": [
    "---\n",
    "layout: post\n",
    "title: Web Programming Basics\n",
    "description: An introduction to key topics in Web Programming\n",
    "courses: { compsci: {week: 6} }\n",
    "type: hacks\n",
    "permalink: /basics/jsdata\n",
    "comments: true\n",
    "---"
   ]
  },
  {
   "cell_type": "raw",
   "metadata": {},
   "source": [
    "{% include nav_basics.html %}"
   ]
  },
  {
   "cell_type": "code",
   "execution_count": 2,
   "metadata": {
    "vscode": {
     "languageId": "javascript"
    }
   },
   "outputs": [
    {
     "data": {
      "application/javascript": "\n// assign variable\nvar name = \"Lakshanya\"\nconsole.log(\"variable: name\")\nconsole.log(name)\n\n// seeing the type of this data\nconsole.log(\"variable: name check typeof\")\nconsole.log(typeof name)\n\n// add strings together\nconsole.log(\"string concatenation: name, + hello\")\nconsole.log(name + \", hello!\")\n",
      "text/plain": [
       "<IPython.core.display.Javascript object>"
      ]
     },
     "metadata": {},
     "output_type": "display_data"
    }
   ],
   "source": [
    "%%js\n",
    "\n",
    "// assign variable\n",
    "var name = \"Lakshanya\"\n",
    "console.log(\"variable: name\")\n",
    "console.log(name)\n",
    "\n",
    "// seeing the type of this data\n",
    "console.log(\"variable: name check typeof\")\n",
    "console.log(typeof name)\n",
    "\n",
    "// add strings together\n",
    "console.log(\"string concatenation: name, + hello\")\n",
    "console.log(name + \", hello!\")"
   ]
  },
  {
   "cell_type": "code",
   "execution_count": 4,
   "metadata": {
    "vscode": {
     "languageId": "javascript"
    }
   },
   "outputs": [
    {
     "data": {
      "application/javascript": "// Defining 'obj' variable as an object with arrays\nconsole.log(\"Object: assigning key-value objects\")\nvar obj = {\n    name: \"Lakshanya\",\n    age: 15 ,\n    classes: [\"world history, computer science, biology, humanities, calculus\"],\n    interests: [\"music, books, cooking\"],\n    siblings: [\"younger brother, older sister\"],\n    ethnicOrigin: \"India\",\n    instrumentExperience: [\"Western Flute - 10 years, Carnatic Flute - 7 years, Clarinet - 2 years, Bass Clarinet - 1 year\"],\n    passionProject: \"Instrument Practice Log\"\n// Additions - siblings, passion project, instrument experience, ethnic origin\n}\n\nconsole.log(obj)\n\n\nobj.classes[1] = 'world history, computer science principles, biology, humanities, calculus'\n\nconsole.log('modified', obj.classes)\n// changes computer science to computer science principles\n\nvar passionProj = \"How many minutes did you practice __ today?\"\nconsole.log(passionProj)\n// Basis of Passion Project - Instrument Practice Log\n\nconsole.log(typeof obj)\nconsole.log(typeof passionProj)\n",
      "text/plain": [
       "<IPython.core.display.Javascript object>"
      ]
     },
     "metadata": {},
     "output_type": "display_data"
    }
   ],
   "source": [
    "%%js\n",
    "// Defining 'obj' variable as an object with arrays\n",
    "console.log(\"Object: assigning key-value objects\")\n",
    "var obj = {\n",
    "    name: \"Lakshanya\",\n",
    "    age: 15 ,\n",
    "    classes: [\"world history, computer science, biology, humanities, calculus\"],\n",
    "    interests: [\"music, books, cooking\"],\n",
    "    siblings: [\"younger brother, older sister\"],\n",
    "    ethnicOrigin: \"India\",\n",
    "    instrumentExperience: [\"Western Flute - 10 years, Carnatic Flute - 7 years, Clarinet - 2 years, Bass Clarinet - 1 year\"],\n",
    "    passionProject: \"Instrument Practice Log\"\n",
    "// Additions - siblings, passion project, instrument experience, ethnic origin\n",
    "}\n",
    "\n",
    "console.log(obj)\n",
    "\n",
    "\n",
    "obj.classes[1] = 'world history, computer science principles, biology, humanities, calculus'\n",
    "\n",
    "console.log('modified', obj.classes)\n",
    "// changes computer science to computer science principles\n",
    "\n",
    "var passionProj = \"How many minutes did you practice __ today?\"\n",
    "console.log(passionProj)\n",
    "// Basis of Passion Project - Instrument Practice Log\n",
    "\n",
    "console.log(typeof obj)\n",
    "console.log(typeof passionProj)"
   ]
  }
 ],
 "metadata": {
  "kernelspec": {
   "display_name": "Python 3 (ipykernel)",
   "language": "python",
   "name": "python3"
  },
  "language_info": {
   "codemirror_mode": {
    "name": "ipython",
    "version": 3
   },
   "file_extension": ".py",
   "mimetype": "text/x-python",
   "name": "python",
   "nbconvert_exporter": "python",
   "pygments_lexer": "ipython3",
   "version": "3.10.12"
  }
 },
 "nbformat": 4,
 "nbformat_minor": 2
}
