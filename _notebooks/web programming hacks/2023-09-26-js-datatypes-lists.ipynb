{
 "cells": [
  {
   "cell_type": "code",
   "execution_count": 13,
   "metadata": {
    "vscode": {
     "languageId": "javascript"
    }
   },
   "outputs": [
    {
     "data": {
      "application/javascript": "\n// assign variable\nvar name = \"Lakshanya\";\nconsole.log(\"variable: name\")\nconsole.log(name)\n\n// seeing the type of this data\nconsole.log(\"variable: name check typeof\")\nconsole.log(typeof name)\n\n// add strings together\nconsole.log(\"string concatenation: name, + hello\")\nconsole.log(name, + \" hello\")\n",
      "text/plain": [
       "<IPython.core.display.Javascript object>"
      ]
     },
     "metadata": {},
     "output_type": "display_data"
    }
   ],
   "source": [
    "%%js\n",
    "\n",
    "// assign variable\n",
    "var name = \"Lakshanya\";\n",
    "console.log(\"variable: name\")\n",
    "console.log(name)\n",
    "\n",
    "// seeing the type of this data\n",
    "console.log(\"variable: name check typeof\")\n",
    "console.log(typeof name)\n",
    "\n",
    "// add strings together\n",
    "console.log(\"string concatenation: name, + hello\")\n",
    "console.log(name, + \" hello\")"
   ]
  },
  {
   "cell_type": "code",
   "execution_count": null,
   "metadata": {
    "vscode": {
     "languageId": "javascript"
    }
   },
   "outputs": [],
   "source": [
    "%%js\n",
    "\n",
    "console.log(\"Object: assigning key-value objects\")\n",
    "var obj = {\n",
    "    name: \"Lakshanya\",\n",
    "    age: 15\n",
    "};\n",
    "\n",
    "console.log(obj);"
   ]
  }
 ],
 "metadata": {
  "kernelspec": {
   "display_name": "Python 3 (ipykernel)",
   "language": "python",
   "name": "python3"
  },
  "language_info": {
   "codemirror_mode": {
    "name": "ipython",
    "version": 3
   },
   "file_extension": ".py",
   "mimetype": "text/x-python",
   "name": "python",
   "nbconvert_exporter": "python",
   "pygments_lexer": "ipython3",
   "version": "3.10.12"
  }
 },
 "nbformat": 4,
 "nbformat_minor": 2
}
