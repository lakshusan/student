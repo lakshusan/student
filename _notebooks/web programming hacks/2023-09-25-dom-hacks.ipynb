{
 "cells": [
  {
   "cell_type": "code",
   "execution_count": null,
   "metadata": {
    "vscode": {
     "languageId": "html"
    }
   },
   "outputs": [],
   "source": [
    "%%html\n",
    "\n",
    "<!-- Me (Lakshanya) and Avanthika -->\n",
    "<div>\n",
    "    <!-- Instruments -->\n",
    "    <p>Lakshanya - Western and Carnatic Flute</p>\n",
    "    <p>Avanthika - Guitar</p>\n",
    "</div>\n",
    "\n",
    "<!-- Eun and Bella -->\n",
    "<div>\n",
    "    <!-- Instruments -->\n",
    "    <p>Eun - Violin and Piano </p>\n",
    "    <p>Bella - Piano</p>\n",
    "</div>"
   ]
  },
  {
   "cell_type": "code",
   "execution_count": 66,
   "metadata": {
    "vscode": {
     "languageId": "html"
    }
   },
   "outputs": [
    {
     "data": {
      "text/html": [
       "\n",
       "<h3>Hack 1</h3>\n",
       "\n",
       "<div>\n",
       "<p>para</p>\n",
       "<button onclick=\"window.location.href='https://nighthawkcoders.github.io/teacher/basics/html';\">button text</button>\n",
       "</div>\n"
      ],
      "text/plain": [
       "<IPython.core.display.HTML object>"
      ]
     },
     "metadata": {},
     "output_type": "display_data"
    }
   ],
   "source": [
    "%%html\n",
    "\n",
    "<h3>Hack 1</h3>\n",
    "\n",
    "<div>\n",
    "<p>para</p>\n",
    "<button onclick=\"window.location.href='https://nighthawkcoders.github.io/teacher/basics/html';\">button text</button>\n",
    "</div>"
   ]
  },
  {
   "cell_type": "code",
   "execution_count": null,
   "metadata": {
    "vscode": {
     "languageId": "html"
    }
   },
   "outputs": [],
   "source": [
    "%%html\n",
    "\n",
    "<h3>Hack 2</h3>\n",
    "\n",
    "<div>\n",
    "<a href=\"https://nighthawkcoders.github.io/teacher/basics/html\";>link 1</a>\n",
    "\n",
    "<a href=\"https://nighthawkcoders.github.io/teacher/basics/dom\";>link 2</a>\n",
    "</div>\n",
    "\n",
    "<p>para</p>"
   ]
  },
  {
   "cell_type": "code",
   "execution_count": 62,
   "metadata": {
    "vscode": {
     "languageId": "html"
    }
   },
   "outputs": [
    {
     "data": {
      "text/html": [
       "\n",
       "<p id=\"output\">Waiting to Switch</p>\n",
       "  <a id=\"link1\" href=\"https://nighthawkcoders.github.io/teacher/basics/html\">Link 1</a>\n",
       "  <a id=\"link2\" href=\"https://nighthawkcoders.github.io/teacher/basics/dom\">Link 2</a>\n",
       "  <button onclick=\"swapLinks()\">Swap Links</button>\n",
       "\n",
       "  <script>\n",
       "    function swapLinks() {\n",
       "      const link1 = document.getElementById('link1');\n",
       "      const link2 = document.getElementById('link2');\n",
       "      \n",
       "      // Swap link attributes\n",
       "      const tempHref = link1.href;\n",
       "      link1.href = link2.href;\n",
       "      link2.href = tempHref;\n",
       "\n",
       "      // Swap the text\n",
       "      const tempText = link1.innerHTML;\n",
       "      link1.innerHTML = link2.innerHTML;\n",
       "      link2.innerHTML = tempText;\n",
       "\n",
       "      // Change the inner HTML of the top <p> tag to \"switched!\"\n",
       "      const output = document.getElementById('output');\n",
       "      output.innerHTML = 'Switched!';\n",
       "    }\n",
       "  </script>\n"
      ],
      "text/plain": [
       "<IPython.core.display.HTML object>"
      ]
     },
     "metadata": {},
     "output_type": "display_data"
    }
   ],
   "source": [
    "%%html\n",
    "\n",
    "<p id=\"output\">Waiting to Switch</p>\n",
    "  <a id=\"link1\" href=\"https://nighthawkcoders.github.io/teacher/basics/html\">Link 1</a>\n",
    "  <a id=\"link2\" href=\"https://nighthawkcoders.github.io/teacher/basics/dom\">Link 2</a>\n",
    "  <button onclick=\"swapLinks()\">Swap Links</button>\n",
    "\n",
    "  <script>\n",
    "    // Defining a function to switch links, Links as constants\n",
    "    function swapLinks() {\n",
    "      const link1 = document.getElementById('link1');\n",
    "      const link2 = document.getElementById('link2');\n",
    "      \n",
    "      // Swap link attributes\n",
    "      const tempHref = link1.href;\n",
    "      link1.href = link2.href;\n",
    "      link2.href = tempHref;\n",
    "\n",
    "      // Swap the text\n",
    "      const tempText = link1.innerHTML;\n",
    "      link1.innerHTML = link2.innerHTML;\n",
    "      link2.innerHTML = tempText;\n",
    "\n",
    "      // Change the inner HTML of the top <p> tag to \"switched!\"\n",
    "      const output = document.getElementById('output');\n",
    "      output.innerHTML = 'Switched!';\n",
    "    }\n",
    "  </script>"
   ]
  }
 ],
 "metadata": {
  "kernelspec": {
   "display_name": "Python 3 (ipykernel)",
   "language": "python",
   "name": "python3"
  },
  "language_info": {
   "codemirror_mode": {
    "name": "ipython",
    "version": 3
   },
   "file_extension": ".py",
   "mimetype": "text/x-python",
   "name": "python",
   "nbconvert_exporter": "python",
   "pygments_lexer": "ipython3",
   "version": "3.10.12"
  }
 },
 "nbformat": 4,
 "nbformat_minor": 2
}
