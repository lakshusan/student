{
 "cells": [
  {
   "cell_type": "code",
   "execution_count": null,
   "metadata": {
    "vscode": {
     "languageId": "html"
    }
   },
   "outputs": [],
   "source": [
    "%%html\n",
    "\n",
    "<!-- Me (Lakshanya) and Avanthika -->\n",
    "<div>\n",
    "    <!-- Instruments -->\n",
    "    <p>Lakshanya - Western and Carnatic Flute</p>\n",
    "    <p>Avanthika - Guitar</p>\n",
    "</div>\n",
    "\n",
    "<!-- Eun and Bella -->\n",
    "<div>\n",
    "    <!-- Instruments -->\n",
    "    <p>Eun - Violin and Piano </p>\n",
    "    <p>Bella - Piano</p>\n",
    "</div>"
   ]
  },
  {
   "cell_type": "code",
   "execution_count": null,
   "metadata": {
    "vscode": {
     "languageId": "html"
    }
   },
   "outputs": [],
   "source": [
    "%%html\n",
    "\n",
    "<h3>Hack 1</h3>\n",
    "\n",
    "<div>\n",
    "<p>para</p>\n",
    "<button onclick=\"window.location.href='https://nighthawkcoders.github.io/teacher/basics/html';\">\n",
    "</button>\n",
    "</div>"
   ]
  },
  {
   "cell_type": "code",
   "execution_count": null,
   "metadata": {
    "vscode": {
     "languageId": "html"
    }
   },
   "outputs": [],
   "source": [
    "%%html\n",
    "\n",
    "<h3>Hack 2</h3>\n",
    "\n",
    "<div>\n",
    "<a href=\"https://nighthawkcoders.github.io/teacher/basics/html\";>link 1</a>\n",
    "\n",
    "<a href=\"https://nighthawkcoders.github.io/teacher/basics/dom\";>link 2</a>\n",
    "</div>\n",
    "\n",
    "<p>para</p>"
   ]
  },
  {
   "cell_type": "code",
   "execution_count": null,
   "metadata": {},
   "outputs": [],
   "source": [
    "%%js\n",
    "\n",
    "function switchLinksAndChangeText() {\n",
    "    const pTag = document.querySelector('p');\n",
    "    const aTags = document.querySelectorAll('a');\n",
    "  \n",
    "    // Swap the href attributes of the two <a> tags\n",
    "    const tempHref = aTags[0].href;\n",
    "    aTags[0].href = aTags[1].href;\n",
    "    aTags[1].href = tempHref;\n",
    "  \n",
    "    // Change the inner HTML of the top <p> tag to \"switched!\"\n",
    "    pTag.innerHTML = 'Switched!';\n",
    "  }"
   ]
  },
  {
   "cell_type": "code",
   "execution_count": 28,
   "metadata": {},
   "outputs": [
    {
     "data": {
      "application/javascript": "\n// Access the element with id \"myDiv\"\nvar element = document.getElementById(\"myDiv\");\n\n// Modify the content or style of the element\nelement.innerHTML = \"This content has been modified.\";\nelement.style.color = \"blue\";\n",
      "text/plain": [
       "<IPython.core.display.Javascript object>"
      ]
     },
     "metadata": {},
     "output_type": "display_data"
    }
   ],
   "source": [
    "%%js\n",
    "\n",
    "// Access the element with id \"myDiv\"\n",
    "var element = document.getElementById(\"myDiv\");\n",
    "\n",
    "// Modify the content or style of the element\n",
    "element.innerHTML = \"This content has been modified.\";\n",
    "element.style.color = \"blue\";"
   ]
  },
  {
   "cell_type": "code",
   "execution_count": null,
   "metadata": {
    "vscode": {
     "languageId": "html"
    }
   },
   "outputs": [],
   "source": [
    "%%html\n",
    "\n",
    "<h3>Hack 2</h3>\n",
    "\n",
    "\n",
    "<a href=\"https://nighthawkcoders.github.io/teacher/basics/html\" id=link 1>Link 1</a>\n",
    "\n",
    "<a href=\"https://nighthawkcoders.github.io/teacher/basics/dom\"; id=link 2>Link 2</a>\n",
    "\n",
    "<button onclick=\"toggleLinks()\">Switch Links</button>"
   ]
  },
  {
   "cell_type": "code",
   "execution_count": 44,
   "metadata": {},
   "outputs": [
    {
     "data": {
      "application/javascript": "\nbuttonElement = document.getElementById('myButton')\n\nparagraphElement = document.getElementById('myParagraph')\n\n// Add an event listener to the button to change the text of the paragraph when clicked\nbuttonElement.addEventListener('click', function() {\n  paragraphElement.textContent = 'Text changed!';\n})\n",
      "text/plain": [
       "<IPython.core.display.Javascript object>"
      ]
     },
     "metadata": {},
     "output_type": "display_data"
    }
   ],
   "source": [
    "%%js\n",
    "\n",
    "buttonElement = document.getElementById('myButton')\n",
    "\n",
    "paragraphElement = document.getElementById('myParagraph')\n",
    "\n",
    "// Add an event listener to the button to change the text of the paragraph when clicked\n",
    "buttonElement.addEventListener('click', function() {\n",
    "  paragraphElement.textContent = 'Text changed!';\n",
    "})"
   ]
  }
 ],
 "metadata": {
  "kernelspec": {
   "display_name": "Python 3 (ipykernel)",
   "language": "python",
   "name": "python3"
  },
  "language_info": {
   "codemirror_mode": {
    "name": "ipython",
    "version": 3
   },
   "file_extension": ".py",
   "mimetype": "text/x-python",
   "name": "python",
   "nbconvert_exporter": "python",
   "pygments_lexer": "ipython3",
   "version": "3.10.12"
  }
 },
 "nbformat": 4,
 "nbformat_minor": 2
}
