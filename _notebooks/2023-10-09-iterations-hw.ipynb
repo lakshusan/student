{
 "cells": [
  {
   "cell_type": "markdown",
   "metadata": {},
   "source": [
    "---\n",
    "layout: post\n",
    "title: Iterations Homework\n",
    "description: Iterations homework assignment\n",
    "courses: { compsci: {week: 8} }\n",
    "type: ccc\n",
    "permalink: /teamteach/iterations\n",
    "comments: true\n",
    "---"
   ]
  },
  {
   "cell_type": "code",
   "execution_count": 8,
   "metadata": {},
   "outputs": [
    {
     "name": "stdout",
     "output_type": "stream",
     "text": [
      "[2, 4, 6, 8, 13, 35, 55, 90]\n"
     ]
    }
   ],
   "source": [
    "def shortestToLongestSorter(nums):\n",
    "    sorted_numbers = sorted(nums)\n",
    "    return sorted_numbers\n",
    "\n",
    "# Sample input\n",
    "input_list = [35, 4, 6, 90, 2, 55, 13, 8]\n",
    "sorted_list = shortestToLongestSorter(input_list)\n",
    "print(sorted_list)"
   ]
  }
 ],
 "metadata": {
  "kernelspec": {
   "display_name": "Python 3",
   "language": "python",
   "name": "python3"
  },
  "language_info": {
   "codemirror_mode": {
    "name": "ipython",
    "version": 3
   },
   "file_extension": ".py",
   "mimetype": "text/x-python",
   "name": "python",
   "nbconvert_exporter": "python",
   "pygments_lexer": "ipython3",
   "version": "3.10.12"
  }
 },
 "nbformat": 4,
 "nbformat_minor": 2
}
