{
 "cells": [
  {
   "cell_type": "code",
   "execution_count": null,
   "metadata": {},
   "outputs": [],
   "source": [
    "import getpass, sys\n",
    "\n",
    "def question_with_response(prompt):\n",
    "    print(\"Question: \" + prompt)\n",
    "    msg = input()\n",
    "    return msg\n",
    "\n",
    "questions = 3\n",
    "correct = 0\n",
    "\n",
    "print('Hello, ' + getpass.getuser() + \" running \" + sys.executable)\n",
    "print(\"You will be asked \" + str(questions) + \" questions.\")\n",
    "\n",
    "rsp = question_with_response(\"Are you ready to take a test?\")\n",
    "if rsp == \"yes\":\n",
    "    print(rsp + \" Great!\")\n",
    "if rsp == \"no\":\n",
    "    print(rsp + \" Aw.\")\n",
    "else:\n",
    "    print(rsp + \" Your answer was not a clear yes or no.\")\n",
    "\n",
    "rsp = question_with_response(\"Did you practice an instrument today?\")\n",
    "if rsp == \"yes\":\n",
    "    print(rsp + \" great!\")\n",
    "    correct += 1\n",
    "else:\n",
    "    print(rsp + \" make sure you do tomorrow\")\n",
    "\n",
    "rsp = question_with_response(\"What day is today?\")\n",
    "if rsp == \"Thursday\":\n",
    "    print(rsp + \" is correct!\")\n",
    "    correct += 1\n",
    "else:\n",
    "    print(rsp + \" is incorrect!\")\n",
    "\n",
    "print(getpass.getuser() + \" you scored \" + str(correct) +\"/\" + str(questions))"
   ]
  }
 ],
 "metadata": {
  "language_info": {
   "name": "python"
  },
  "orig_nbformat": 4
 },
 "nbformat": 4,
 "nbformat_minor": 2
}
