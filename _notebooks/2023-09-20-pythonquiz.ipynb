{
 "cells": [
  {
   "cell_type": "code",
   "execution_count": 1,
   "metadata": {},
   "outputs": [
    {
     "name": "stdout",
     "output_type": "stream",
     "text": [
      "Welcome to the Python Quiz!\n",
      "============================\n",
      "You will be asked a series of questions, and your answers will be checked.\n",
      "Hello, lakshusan running /bin/python\n",
      "You will be asked 8 questions.\n",
      "Question: Name the Python output command mentioned in this lesson?\n",
      " is incorrect!\n",
      "Question: If you see many lines of code in order, what would College Board call it?\n",
      " is incorrect!\n",
      "Question: Describe a keyword used in Python to define a function?\n",
      " is incorrect!\n",
      "Question: What is grouping a sequence of commands, often used repeatedly, called?\n",
      " is incorrect!\n",
      "Question: What command activates the Jupyter notebook input box, which obtains input from the user?\n",
      " is incorrect!\n",
      "Question: What command is used to include other functions that were previously developed?\n",
      " is incorrect!\n",
      "Question: What command is used to evaluate correct or incorrect response in this example?\n",
      " is incorrect!\n",
      "Question: Each 'if' command contains an '_________' to determine a true or false condition?\n",
      " is incorrect!\n",
      "lakshusan you scored 0/8\n",
      "lakshusan you scored 0.0%\n"
     ]
    }
   ],
   "source": [
    "import getpass\n",
    "import sys\n",
    "# Define the question and answer data\n",
    "questioner = [\"Name the Python output command mentioned in this lesson?\", \"If you see many lines of code in order, what would College Board call it?\", \"Describe a keyword used in Python to define a function?\", \"What is grouping a sequence of commands, often used repeatedly, called?\", \"What command activates the Jupyter notebook input box, which obtains input from the user?\", \"What command is used to include other functions that were previously developed?\", \"What command is used to evaluate correct or incorrect response in this example?\", \"Each 'if' command contains an '_________' to determine a true or false condition?\"]\n",
    "answerer = [\"print\", \"baz\", \"def\", \"procedural abstraction\", \"input\",  \"import\", \"if\", \"expression\"]\n",
    "# Define the question and response function\n",
    "def question_with_response(prompt):\n",
    "    print(\"Question: \" + prompt)\n",
    "    msg = input()\n",
    "    return msg\n",
    "# Define a tester function for quiz questions\n",
    "def test_quiz_questions():\n",
    "    questions = 8\n",
    "    correct = 0\n",
    "    print('Hello, ' + getpass.getuser() + \" running \" + sys.executable)\n",
    "    print(\"You will be asked \" + str(questions) + \" questions.\")\n",
    "    answer=input(\"Are you ready to take a test?\")\n",
    "    # Iterate through quiz questions and check answers\n",
    "    for i in range(8):\n",
    "        rsp = question_with_response(str(questioner[i]))\n",
    "        if rsp == (answerer[i]):\n",
    "            print(rsp + \" is correct!\")\n",
    "            correct += 1\n",
    "        else:\n",
    "            print(rsp + \" is incorrect!\")\n",
    "    # Calculate and display the score\n",
    "    print(getpass.getuser() + \" you scored \" + str(correct) + \"/\" + str(questions))\n",
    "    print(getpass.getuser() + \" you scored \" + str((correct/questions)*100) + \"%\")\n",
    "# Visual illustration of the program\n",
    "print(\"Welcome to the Python Quiz!\")\n",
    "print(\"============================\")\n",
    "print(\"You will be asked a series of questions, and your answers will be checked.\")\n",
    "# Call the tester function for quiz questions\n",
    "test_quiz_questions()"
   ]
  }
 ],
 "metadata": {
  "kernelspec": {
   "display_name": "Python 3",
   "language": "python",
   "name": "python3"
  },
  "language_info": {
   "codemirror_mode": {
    "name": "ipython",
    "version": 3
   },
   "file_extension": ".py",
   "mimetype": "text/x-python",
   "name": "python",
   "nbconvert_exporter": "python",
   "pygments_lexer": "ipython3",
   "version": "3.10.12"
  },
  "orig_nbformat": 4
 },
 "nbformat": 4,
 "nbformat_minor": 2
}
